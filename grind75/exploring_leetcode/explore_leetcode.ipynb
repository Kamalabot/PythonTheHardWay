{
 "cells": [
  {
   "cell_type": "code",
   "execution_count": 1,
   "metadata": {},
   "outputs": [],
   "source": [
    "import openai\n",
    "import json"
   ]
  },
  {
   "cell_type": "code",
   "execution_count": 2,
   "metadata": {},
   "outputs": [],
   "source": [
    "with open('QuestionGroups.json', 'r') as prob:\n",
    "    data = json.load(prob)"
   ]
  },
  {
   "cell_type": "code",
   "execution_count": 3,
   "metadata": {},
   "outputs": [
    {
     "data": {
      "text/plain": [
       "['Week 1',\n",
       " 'Week 2',\n",
       " 'Week 3',\n",
       " 'Week 4',\n",
       " 'Week 5',\n",
       " 'Week 6',\n",
       " 'Week 7',\n",
       " 'Week 8']"
      ]
     },
     "execution_count": 3,
     "metadata": {},
     "output_type": "execute_result"
    }
   ],
   "source": [
    "weeks = [f'Week {i}' for i in range(1, 9)]\n",
    "weeks"
   ]
  },
  {
   "cell_type": "code",
   "execution_count": 4,
   "metadata": {},
   "outputs": [
    {
     "data": {
      "text/plain": [
       "['Given an array of integers nums and an integer target, return indices of the two numbers such that they add up to target.',\n",
       " 'You may assume that each input would have exactly one solution, and you may not use the same element twice.',\n",
       " 'You can return the answer in any order']"
      ]
     },
     "execution_count": 4,
     "metadata": {},
     "output_type": "execute_result"
    }
   ],
   "source": [
    "data[weeks[0]][0]['ProblemStatement']"
   ]
  },
  {
   "cell_type": "code",
   "execution_count": 5,
   "metadata": {},
   "outputs": [],
   "source": [
    "from dotenv import load_dotenv\n",
    "from openai import OpenAI\n",
    "import os\n",
    "\n",
    "load_dotenv(\"D:\\\\gitFolders\\\\python_de_learners_data\\\\.env\")\n",
    "openai.api_key = os.environ['OPENAI_API_KEY']"
   ]
  },
  {
   "cell_type": "code",
   "execution_count": 9,
   "metadata": {},
   "outputs": [],
   "source": [
    "client = OpenAI()\n",
    "\n",
    "your_prompt = f\"\"\"Provide me only the approach to solve the below problem. Don't provide the code.\n",
    "The code will be written based on the approach provided.Wherever necessary add a one line \n",
    "explanation as to why something is done.\"\"\""
   ]
  },
  {
   "cell_type": "code",
   "execution_count": 8,
   "metadata": {},
   "outputs": [],
   "source": [
    "def custom_text(message, prompt):\n",
    "    \"\"\"Structured the message into \"\"\"\n",
    "    response = client.chat.completions.create(\n",
    "        model=\"gpt-3.5-turbo\",\n",
    "        messages=[\n",
    "            {\"role\":\"system\", \"content\": prompt},\n",
    "            {\"role\": \"user\", \"content\": message}\n",
    "        ]\n",
    "    )\n",
    "    return response.choices[0].message.content"
   ]
  },
  {
   "cell_type": "code",
   "execution_count": 33,
   "metadata": {},
   "outputs": [
    {
     "data": {
      "text/plain": [
       "[\"Given an array of integers heights representing the histogram's bar height where the width of each bar is 1, return the area of the largest rectangle in the histogram.\"]"
      ]
     },
     "execution_count": 33,
     "metadata": {},
     "output_type": "execute_result"
    }
   ],
   "source": [
    "data[weeks[7]][7]['ProblemStatement']"
   ]
  },
  {
   "cell_type": "code",
   "execution_count": 41,
   "metadata": {},
   "outputs": [],
   "source": [
    "statements = []\n",
    "\n",
    "for week in weeks:\n",
    "    # print(week)\n",
    "    probs = data[week] # get the data of entire week\n",
    "    for prob in probs: # traverse the each problem data\n",
    "        statement = \"\\n\".join(prob['ProblemStatement']) # make the problem statement\n",
    "        statements.append(statement) # append the statement into the storage"
   ]
  },
  {
   "cell_type": "code",
   "execution_count": 45,
   "metadata": {},
   "outputs": [
    {
     "data": {
      "text/plain": [
       "'1. Initialize two variables, minPrice and maxProfit, both set to the first element in the prices array.\\n   - minPrice will keep track of the minimum price encountered so far, which represents the best day to buy the stock.\\n   - maxProfit will store the maximum profit that can be achieved by selling the stock on a future day.\\n\\n2. Iterate through the array from the second element.\\n   - Update minPrice if the current price is lower than the current minPrice.\\n   - Calculate the profit by subtracting the current price from the minPrice.\\n   - Update maxProfit if the calculated profit is greater than the current maxProfit.\\n\\n3. After iterating through the entire array, return the maxProfit value.\\n\\nNote: The approach relies on the fact that we want to buy at the lowest price and sell at the highest price. By keeping track of the minimum price encountered so far, we ensure that we buy at the best day, and by calculating the profit with the current price and the minimum price, we check if selling on the current day gives us a higher profit than the previous days.'"
      ]
     },
     "execution_count": 45,
     "metadata": {},
     "output_type": "execute_result"
    }
   ],
   "source": [
    "custom_text(statements[3], your_prompt)"
   ]
  },
  {
   "cell_type": "code",
   "execution_count": 47,
   "metadata": {},
   "outputs": [
    {
     "data": {
      "text/plain": [
       "75"
      ]
     },
     "execution_count": 47,
     "metadata": {},
     "output_type": "execute_result"
    }
   ],
   "source": [
    "len(statements)  # ensure the correct number of statement are present"
   ]
  },
  {
   "cell_type": "code",
   "execution_count": 59,
   "metadata": {},
   "outputs": [
    {
     "data": {
      "text/plain": [
       "'Design a stack that supports push, pop, top, and retrieving the minimum element in constant time.\\nImplement the MinStack class:\\nMinStack() initializes the stack object.\\nvoid push(int val) pushes the element val onto the stack.\\nvoid pop() removes the element on the top of the stack.\\nint top() gets the top element of the stack.\\nint getMin() retrieves the minimum element in the stack.\\nYou must implement a solution with O(1) time complexity for each function.'"
      ]
     },
     "execution_count": 59,
     "metadata": {},
     "output_type": "execute_result"
    }
   ],
   "source": [
    "statements[24]"
   ]
  },
  {
   "cell_type": "code",
   "execution_count": null,
   "metadata": {},
   "outputs": [],
   "source": [
    "import time\n",
    "\n",
    "prob_approach = []\n",
    "\n",
    "for intd, stat in enumerate(statements[24:]):\n",
    "    print(f\"Sending the {intd + 26} statement\")\n",
    "    approach = custom_text(stat, your_prompt)\n",
    "    prob_approach.append({\"challenge_statement\":stat,\n",
    "                          \"Approcach\":approach})\n",
    "    time.sleep(2)\n"
   ]
  },
  {
   "cell_type": "code",
   "execution_count": 63,
   "metadata": {},
   "outputs": [
    {
     "name": "stdout",
     "output_type": "stream",
     "text": [
      "To solve this problem, we can use two stacks: one to store the actual elements of the stack, and another to store the minimum element at each step.\n",
      "\n",
      "Here is the approach:\n",
      "\n",
      "1. Initialize two stacks: 'stack' and 'minStack'.\n",
      "2. When pushing an element onto the stack:\n",
      "   a. Push the element onto the 'stack'.\n",
      "   b. If 'minStack' is empty or the element is smaller than or equal to the top element of 'minStack', push the element onto 'minStack'.\n",
      "3. When popping an element:\n",
      "   a. Pop the top element from 'stack'.\n",
      "   b. If the popped element is equal to the top element of 'minStack', pop the top element from 'minStack'.\n",
      "4. To get the top element of the stack, return the top element of 'stack'.\n",
      "5. To retrieve the minimum element in constant time, return the top element of 'minStack'.\n",
      "\n",
      "By maintaining the minimum element at each step in a separate stack, we can retrieve it in constant time without having to iterate over the entire stack.\n"
     ]
    }
   ],
   "source": [
    "print(prob_approach[0]['Approcach'])"
   ]
  },
  {
   "cell_type": "code",
   "execution_count": 61,
   "metadata": {},
   "outputs": [
    {
     "name": "stdout",
     "output_type": "stream",
     "text": [
      "Design a stack that supports push, pop, top, and retrieving the minimum element in constant time.\n",
      "Implement the MinStack class:\n",
      "MinStack() initializes the stack object.\n",
      "void push(int val) pushes the element val onto the stack.\n",
      "void pop() removes the element on the top of the stack.\n",
      "int top() gets the top element of the stack.\n",
      "int getMin() retrieves the minimum element in the stack.\n",
      "You must implement a solution with O(1) time complexity for each function.\n"
     ]
    }
   ],
   "source": [
    "print(prob_approach[0]['challenge_statement'])"
   ]
  },
  {
   "cell_type": "code",
   "execution_count": 62,
   "metadata": {},
   "outputs": [
    {
     "data": {
      "text/plain": [
       "51"
      ]
     },
     "execution_count": 62,
     "metadata": {},
     "output_type": "execute_result"
    }
   ],
   "source": [
    "len(prob_approach)"
   ]
  },
  {
   "cell_type": "code",
   "execution_count": 64,
   "metadata": {},
   "outputs": [],
   "source": [
    "with open('approach_grind51.json', '+w') as grind:\n",
    "    json.dump(prob_approach, grind)"
   ]
  },
  {
   "cell_type": "code",
   "execution_count": 65,
   "metadata": {},
   "outputs": [],
   "source": [
    "with open('approach_grind24.json', 'r') as two3:\n",
    "    data = json.load(two3)"
   ]
  },
  {
   "cell_type": "code",
   "execution_count": 69,
   "metadata": {},
   "outputs": [],
   "source": [
    "full_data = data + prob_approach"
   ]
  },
  {
   "cell_type": "code",
   "execution_count": 70,
   "metadata": {},
   "outputs": [],
   "source": [
    "with open('approch_prob.json', '+w') as full:\n",
    "    json.dump(full_data, full)"
   ]
  }
 ],
 "metadata": {
  "kernelspec": {
   "display_name": "Python 3",
   "language": "python",
   "name": "python3"
  },
  "language_info": {
   "codemirror_mode": {
    "name": "ipython",
    "version": 3
   },
   "file_extension": ".py",
   "mimetype": "text/x-python",
   "name": "python",
   "nbconvert_exporter": "python",
   "pygments_lexer": "ipython3",
   "version": "3.11.4"
  }
 },
 "nbformat": 4,
 "nbformat_minor": 2
}
