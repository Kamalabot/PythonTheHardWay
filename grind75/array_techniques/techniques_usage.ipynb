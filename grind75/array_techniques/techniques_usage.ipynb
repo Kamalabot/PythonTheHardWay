{
 "cells": [
  {
   "cell_type": "code",
   "execution_count": 2,
   "metadata": {},
   "outputs": [],
   "source": [
    "techs = {\n",
    "  \"Array Techniques\": [\n",
    "    {\n",
    "      \"Technique\": \"Brute Force\",\n",
    "      \"Example\": \"Finding maximum subarray sum\",\n",
    "      \"Code\": \"```python\\n# Brute Force\\n```\"\n",
    "    },\n",
    "    {\n",
    "      \"Technique\": \"Two Pointers\",\n",
    "      \"Example\": \"Two Sum\",\n",
    "      \"Code\": \"```python\\n# Two Pointers\\n```\"\n",
    "    },\n",
    "    {\n",
    "      \"Technique\": \"Sliding Window\",\n",
    "      \"Example\": \"Maximum Sum Subarray of Fixed Size K\",\n",
    "      \"Code\": \"```python\\n# Sliding Window\\n```\"\n",
    "    },\n",
    "    {\n",
    "      \"Technique\": \"Sorting\",\n",
    "      \"Example\": \"Intersection of Two Arrays II\",\n",
    "      \"Code\": \"```python\\n# Sorting\\n```\"\n",
    "    },\n",
    "    {\n",
    "      \"Technique\": \"Greedy\",\n",
    "      \"Example\": \"Jump Game\",\n",
    "      \"Code\": \"```python\\n# Greedy\\n```\"\n",
    "    },\n",
    "    {\n",
    "      \"Technique\": \"Hashing\",\n",
    "      \"Example\": \"Two Sum\",\n",
    "      \"Code\": \"```python\\n# Hashing\\n```\"\n",
    "    },\n",
    "    {\n",
    "      \"Technique\": \"Dynamic Programming\",\n",
    "      \"Example\": \"Maximum Subarray Sum\",\n",
    "      \"Code\": \"```python\\n# Dynamic Programming\\n```\"\n",
    "    }\n",
    "  ]\n",
    "}"
   ]
  },
  {
   "cell_type": "code",
   "execution_count": 7,
   "metadata": {},
   "outputs": [],
   "source": [
    "# Each of the data structures have \n",
    "# their own time_complexities, need to check.\n",
    "time_complexity = {\n",
    "    \"access\": \"O(1)\",\n",
    "    \"search\": \"O(n)\",\n",
    "    \"sorted_search\": \"O(log(n))\",\n",
    "    \"insert\": \"O(n)\",\n",
    "    \"append\": \"O(1)\",\n",
    "    \"remove\": \"O(n)\",\n",
    "    \"remove_end\": \"O(1)\",\n",
    "    \"reversing\": \"O(n)\"\n",
    "}\n",
    "# https://stackoverflow.com/questions/45330006/what-is-the-time-complexity-and-space-complexity-of-array-1"
   ]
  },
  {
   "cell_type": "code",
   "execution_count": 3,
   "metadata": {},
   "outputs": [],
   "source": [
    "# Mastering Sliding Window technique \n",
    "# Useful when solving problems that involve subarray and subsequence, by maintaining window"
   ]
  },
  {
   "cell_type": "markdown",
   "metadata": {},
   "source": [
    "#### Maximum Sum Subarray of Size K\n",
    "\n",
    "Problem: Given an Array of integers and integer K, find the maximum sum of the subarray of size k\n",
    "\n",
    "Subarray : A range of contiguous values within array\n",
    "\n",
    "Subsequence : A sequence derived from given sequence by deleting some / no elements, \"without\" changing the order of elements. "
   ]
  },
  {
   "cell_type": "code",
   "execution_count": 7,
   "metadata": {},
   "outputs": [
    {
     "data": {
      "text/plain": [
       "[5, 7, 6, -8]"
      ]
     },
     "execution_count": 7,
     "metadata": {},
     "output_type": "execute_result"
    }
   ],
   "source": [
    "nums = [5, 7, 6, -8, 9, -2, 3, 4]\n",
    "nums[:4]"
   ]
  },
  {
   "cell_type": "code",
   "execution_count": 5,
   "metadata": {},
   "outputs": [
    {
     "name": "stdout",
     "output_type": "stream",
     "text": [
      "4\n",
      "5\n",
      "6\n",
      "7\n"
     ]
    }
   ],
   "source": [
    "for i in range(4, len(nums)):\n",
    "    print(i)"
   ]
  },
  {
   "cell_type": "code",
   "execution_count": 4,
   "metadata": {},
   "outputs": [
    {
     "data": {
      "text/plain": [
       "[5, 7, 6, 8, 9, 2, 3, 4]"
      ]
     },
     "execution_count": 4,
     "metadata": {},
     "output_type": "execute_result"
    }
   ],
   "source": [
    "nums[0:8]"
   ]
  },
  {
   "cell_type": "code",
   "execution_count": 3,
   "metadata": {},
   "outputs": [
    {
     "data": {
      "text/plain": [
       "8"
      ]
     },
     "execution_count": 3,
     "metadata": {},
     "output_type": "execute_result"
    }
   ],
   "source": [
    "len(nums)"
   ]
  },
  {
   "cell_type": "code",
   "execution_count": 8,
   "metadata": {},
   "outputs": [
    {
     "data": {
      "text/plain": [
       "24"
      ]
     },
     "execution_count": 8,
     "metadata": {},
     "output_type": "execute_result"
    }
   ],
   "source": [
    "sum(nums)"
   ]
  },
  {
   "cell_type": "code",
   "execution_count": null,
   "metadata": {},
   "outputs": [],
   "source": [
    "def reverse(array):\n",
    "    \"\"\"Reversing Array with while loop\"\"\"\n",
    "    start, end = 0, len(array)-1  # create start, end vars\n",
    "    while start < end: # while start is less than end\n",
    "        array[start], array[end] = array[end], array[start]\n",
    "        start += 1  # move start to left by a step\n",
    "        end -= 1  # move end to right by a step"
   ]
  },
  {
   "cell_type": "code",
   "execution_count": 10,
   "metadata": {},
   "outputs": [],
   "source": [
    "# Brute Force Tech\n",
    "def max_sum_sa_brute(nums):\n",
    "    n = len(nums)\n",
    "    max_sum = float('-inf')\n",
    "    start_idx, end_idx = 0, 0  # keeps track of start & end\n",
    "\n",
    "    for i in range(n):  # start at index 0\n",
    "        current_sum = 0  # initialize sum_tracker\n",
    "        # print(nums[i:n])\n",
    "        for ind, ele in enumerate(nums[i:n]):\n",
    "            # enumerate from 0 to length of list\n",
    "            current_sum += ele  # add elem to curr_sum\n",
    "            # check if the current sum is bigger than max_sum\n",
    "            if current_sum > max_sum: \n",
    "                # start & end are updated only if new sum is bigger \n",
    "                max_sum = current_sum\n",
    "                start_idx, end_idx = i, ind+i  # i remains stationary\n",
    "        # have to complete the entire loop, as the max sum can be anywhere\n",
    "    return start_idx, end_idx, max_sum"
   ]
  },
  {
   "cell_type": "code",
   "execution_count": 11,
   "metadata": {},
   "outputs": [
    {
     "data": {
      "text/plain": [
       "(0, 7, 24)"
      ]
     },
     "execution_count": 11,
     "metadata": {},
     "output_type": "execute_result"
    }
   ],
   "source": [
    "max_sum_sa_brute(nums)"
   ]
  },
  {
   "cell_type": "code",
   "execution_count": 16,
   "metadata": {},
   "outputs": [
    {
     "name": "stdout",
     "output_type": "stream",
     "text": [
      "3\n",
      "[5, 7, 6]\n",
      "0 0\n",
      "0 1\n",
      "0 2\n",
      "2\n",
      "[7, 6]\n",
      "1 0\n",
      "1 1\n",
      "1\n",
      "[6]\n",
      "2 0\n"
     ]
    }
   ],
   "source": [
    "nl = len(nums) - 5\n",
    "for i in range(nl):\n",
    "    print(len(nums[i:nl]))\n",
    "    print(nums[i:nl])\n",
    "    for ind, ele in enumerate(nums[i:nl]):\n",
    "        print(i, ind)"
   ]
  },
  {
   "cell_type": "code",
   "execution_count": 4,
   "metadata": {},
   "outputs": [
    {
     "name": "stdout",
     "output_type": "stream",
     "text": [
      "[-2, 1, -3, 4, -1, 2, 1, -5, 4]\n",
      "[1, -3, 4, -1, 2, 1, -5, 4]\n",
      "[-3, 4, -1, 2, 1, -5, 4]\n",
      "[4, -1, 2, 1, -5, 4]\n",
      "[-1, 2, 1, -5, 4]\n",
      "[2, 1, -5, 4]\n",
      "[1, -5, 4]\n",
      "[-5, 4]\n",
      "[4]\n"
     ]
    },
    {
     "data": {
      "text/plain": [
       "(3, 6, 6)"
      ]
     },
     "execution_count": 4,
     "metadata": {},
     "output_type": "execute_result"
    }
   ],
   "source": [
    "nums = [-2, 1, -3, 4, -1, 2, 1, -5, 4]\n",
    "max_sum_sa_brute(nums)"
   ]
  },
  {
   "cell_type": "code",
   "execution_count": 27,
   "metadata": {},
   "outputs": [
    {
     "data": {
      "text/plain": [
       "[50, 17, 11, 27, 25, 24, 18, 16]"
      ]
     },
     "execution_count": 27,
     "metadata": {},
     "output_type": "execute_result"
    }
   ],
   "source": [
    "import random \n",
    "random.seed(42)\n",
    "trom = [random.randint(10, 50) for _ in range(8)]\n",
    "trom "
   ]
  },
  {
   "cell_type": "code",
   "execution_count": 8,
   "metadata": {},
   "outputs": [
    {
     "data": {
      "text/plain": [
       "23"
      ]
     },
     "execution_count": 8,
     "metadata": {},
     "output_type": "execute_result"
    }
   ],
   "source": [
    "# Sliding Window Tech\n",
    "def max_sum_subarray(nums, k):\n",
    "    win_sum = sum(nums[:k])  # get sum of the first k elements\n",
    "    max_sum = win_sum  # make that sum as max sum \n",
    "\n",
    "    for i in range(k, len(nums)):  # as it is subarray, it has to be contiguous\n",
    "        win_sum = win_sum - nums[i - k] + nums[i]\n",
    "        # remove the values outside the window from win_sum and add new values\n",
    "        max_sum = max(max_sum, win_sum)\n",
    "\n",
    "    return max_sum\n",
    "\n",
    "max_sum_subarray(nums, 3)"
   ]
  },
  {
   "cell_type": "code",
   "execution_count": 41,
   "metadata": {},
   "outputs": [
    {
     "name": "stdout",
     "output_type": "stream",
     "text": [
      "[5, 7, 6]\n",
      "[8, 9, 2] 5 8\n",
      "[9, 2, 3] 7 9\n",
      "[2, 3, 4] 6 2\n",
      "[3, 4] 8 3\n",
      "[4] 9 4\n"
     ]
    }
   ],
   "source": [
    "# implementing the above without summing\n",
    "# picking out first from left, and adding new one on right\n",
    "w_k = 3\n",
    "print(nums[:w_k])\n",
    "for i in range(3, 8):\n",
    "    print(nums[i:i+w_k], nums[i - w_k], nums[i])"
   ]
  },
  {
   "cell_type": "code",
   "execution_count": 25,
   "metadata": {},
   "outputs": [
    {
     "data": {
      "text/plain": [
       "[[5, 7, 6], [7, 6, 8], [6, 8, 9], [8, 9, 2], [9, 2, 3], [2, 3, 4]]"
      ]
     },
     "execution_count": 25,
     "metadata": {},
     "output_type": "execute_result"
    }
   ],
   "source": [
    "def slide_array(nums, k):\n",
    "    slides = []  # store  the slides\n",
    "    # start = nums[:k]  # get the first slide\n",
    "    # slides.append(start)  # append it to the slides\n",
    "\n",
    "    for i in range(len(nums)):\n",
    "        subarr = nums[i:i+k]\n",
    "        if len(subarr) == k:  # include only the subarray of length k\n",
    "            slides.append(subarr)\n",
    "    return slides\n",
    "\n",
    "nums = [5, 7, 6, 8, 9, 2, 3, 4]\n",
    "slide_array(nums, 3)"
   ]
  },
  {
   "cell_type": "code",
   "execution_count": 18,
   "metadata": {},
   "outputs": [
    {
     "data": {
      "text/plain": [
       "[5, 7, 6]"
      ]
     },
     "execution_count": 18,
     "metadata": {},
     "output_type": "execute_result"
    }
   ],
   "source": [
    "nums[:3]"
   ]
  },
  {
   "cell_type": "code",
   "execution_count": 23,
   "metadata": {},
   "outputs": [
    {
     "name": "stdout",
     "output_type": "stream",
     "text": [
      "3\n",
      "0\n",
      "5\n",
      "4\n",
      "1\n",
      "7\n",
      "5\n",
      "2\n",
      "6\n",
      "6\n",
      "3\n",
      "-8\n",
      "7\n",
      "4\n",
      "9\n"
     ]
    }
   ],
   "source": [
    "for i in range(3, 8):\n",
    "    print(i)\n",
    "    print(i - 3)\n",
    "    print(nums[i - 3])"
   ]
  },
  {
   "cell_type": "code",
   "execution_count": 39,
   "metadata": {},
   "outputs": [
    {
     "name": "stdout",
     "output_type": "stream",
     "text": [
      "[50, 17, 11]\n",
      "[17, 11, 27]\n",
      "[11, 27, 25]\n",
      "[27, 25, 24]\n",
      "[25, 24, 18]\n",
      "[24, 18, 16]\n"
     ]
    }
   ],
   "source": [
    "w_k = 3\n",
    "\n",
    "n = len(trom)\n",
    "start = trom[:w_k]\n",
    "\n",
    "for i in range(n):  # traverse from \n",
    "    print(trom[i:i+w_k])\n",
    "    if w_k + i == n: # break when reaching the end\n",
    "        break"
   ]
  },
  {
   "cell_type": "markdown",
   "metadata": {},
   "source": [
    "#### Smallest Subarray with Given sum\n",
    "\n",
    "prob_statement: Given array of positive integers and target sum, find the length of smallest subarray with sum greater than or equal to target sum."
   ]
  },
  {
   "cell_type": "code",
   "execution_count": 12,
   "metadata": {},
   "outputs": [],
   "source": [
    "def smallest_sa_sum(nums, tgt):\n",
    "    win_start = 0  # Initialize start and sum variables\n",
    "    win_sum = 0 \n",
    "    min_len = float('inf')  # initialize min length as infinite\n",
    "\n",
    "    for win_end in range(len(nums)):\n",
    "        win_sum += nums[win_end]  # start adding to sum from incremental elements\n",
    "\n",
    "        while win_sum >= tgt:  # whenever the win_sum is eq/abv tgt\n",
    "            min_len = min(min_len, win_end - win_start + 1)   \n",
    "            # get the min of min_len and current sub_array length\n",
    "            win_sum -= nums[win_start] # subtract the elem at win_start\n",
    "            win_start += 1  # increment win_start\n",
    "    # check min_len is not infite, and return it else return 0 \n",
    "    return min_len if min_len != float(\"inf\") else 0"
   ]
  },
  {
   "cell_type": "code",
   "execution_count": 21,
   "metadata": {},
   "outputs": [],
   "source": [
    "def smallest_sa_sum_list(nums, tgt):\n",
    "    win_start = 0  # Initialize start and sum variables\n",
    "    win_sum = 0 \n",
    "    min_len = float('inf')  # initialize min length as infinite\n",
    "\n",
    "    for win_end in range(len(nums)):\n",
    "        win_sum += nums[win_end]  # start adding to sum from incremental elements\n",
    "\n",
    "        while win_sum >= tgt:  # whenever the win_sum is eq/abv tgt\n",
    "            min_len = min(min_len, win_end - win_start + 1)   \n",
    "            print(nums[win_start:win_end+1])  # check the subarray used\n",
    "            # get the min of min_len and current sub_array length\n",
    "            win_sum -= nums[win_start] # subtract the elem at win_start\n",
    "            win_start += 1  # increment win_start\n",
    "    # check min_len is not infite, and return it else return 0 \n",
    "    return min_len if min_len != float(\"inf\") else 0"
   ]
  },
  {
   "cell_type": "code",
   "execution_count": 17,
   "metadata": {},
   "outputs": [
    {
     "data": {
      "text/plain": [
       "3"
      ]
     },
     "execution_count": 17,
     "metadata": {},
     "output_type": "execute_result"
    }
   ],
   "source": [
    "smallest_sa_sum(nums, 23)"
   ]
  },
  {
   "cell_type": "code",
   "execution_count": 22,
   "metadata": {},
   "outputs": [
    {
     "name": "stdout",
     "output_type": "stream",
     "text": [
      "[5, 7, 6, 8]\n",
      "[7, 6, 8, 9]\n",
      "[6, 8, 9]\n",
      "[8, 9, 2, 3, 4]\n"
     ]
    },
    {
     "data": {
      "text/plain": [
       "3"
      ]
     },
     "execution_count": 22,
     "metadata": {},
     "output_type": "execute_result"
    }
   ],
   "source": [
    "smallest_sa_sum_list(nums, 23)"
   ]
  },
  {
   "cell_type": "markdown",
   "metadata": {},
   "source": [
    "#### Longest Substring without Repeating chars\n",
    "\n",
    "Given a string, find the length of the longest substring without repeating characters."
   ]
  },
  {
   "cell_type": "code",
   "execution_count": null,
   "metadata": {},
   "outputs": [],
   "source": [
    "def longest_substring_without_repeating(s):\n",
    "    char_index_map = {}  # initialize the charmap\n",
    "    max_length = 0  # initialize max_len and win start\n",
    "    window_start = 0\n",
    "\n",
    "    for window_end in range(len(s)):\n",
    "        # at each win_end check if char in char_map, and its index is greater than win start\n",
    "        if s[window_end] in char_index_map and char_index_map[s[window_end]] >= window_start:\n",
    "            window_start = char_index_map[s[window_end]] + 1\n",
    "\n",
    "        char_index_map[s[window_end]] = window_end\n",
    "        max_length = max(max_length, window_end - window_start + 1)\n",
    "\n",
    "    return max_length\n"
   ]
  },
  {
   "cell_type": "code",
   "execution_count": 47,
   "metadata": {},
   "outputs": [
    {
     "name": "stdout",
     "output_type": "stream",
     "text": [
      "25 50\n"
     ]
    }
   ],
   "source": [
    "# hashing tech\n",
    "new_dict = {}\n",
    "for i, x in enumerate(trom):\n",
    "    new_dict[x] = i\n",
    "for x in trom:\n",
    "    temp = x - 25\n",
    "    if temp in new_dict:\n",
    "        print(trom[new_dict[temp]], x)"
   ]
  },
  {
   "cell_type": "code",
   "execution_count": null,
   "metadata": {},
   "outputs": [],
   "source": [
    "tlen = len(tlist)\n",
    "\n",
    "rev_d = {}  # store the reverse of the elements\n",
    "fwr_d = {x:i for i, x in enumerate(tlist)}\n",
    "print(fwr_d)\n",
    "\n",
    "for i, e in enumerate(tlist):\n",
    "    rev_d[i] = tlist[tlen - i - 1]\n",
    "\n",
    "print(rev_d)\n",
    "\n",
    "# Storing the compliments of the element with respect to curr \n",
    "com_s = {}\n",
    "reqtol = 52\n",
    "comtol = {}\n",
    "\n",
    "for c in tlist:\n",
    "    com_s[c] = reqtol - c \n",
    "\n",
    "for i, t in enumerate(tlist):\n",
    "    comtol[t] = [(t - x) for x in tlist[i:]]\n",
    "\n",
    "print(com_s)\n",
    "print(comtol)"
   ]
  },
  {
   "cell_type": "code",
   "execution_count": 18,
   "metadata": {},
   "outputs": [
    {
     "name": "stdout",
     "output_type": "stream",
     "text": [
      "46 -f remaining elem to the right of 46: [26, 12, 22, 48, 23]\n",
      "remaining elem to the left of 46: [46]\n",
      "All elements apart from current printed reverse: [23, 48, 22, 12, 26]\n",
      "All elements apart from current printed straight: [26, 12, 22, 48]\n",
      "26 -f remaining elem to the right of 26: [12, 22, 48, 23]\n",
      "remaining elem to the left of 26: [46, 26]\n",
      "All elements apart from current printed reverse: [23, 48, 22, 12, 46]\n",
      "All elements apart from current printed straight: [46, 12, 22, 48]\n",
      "12 -f remaining elem to the right of 12: [22, 48, 23]\n",
      "remaining elem to the left of 12: [46, 26, 12]\n",
      "All elements apart from current printed reverse: [23, 48, 22, 26, 46]\n",
      "All elements apart from current printed straight: [46, 26, 22, 48]\n",
      "22 -f remaining elem to the right of 22: [48, 23]\n",
      "remaining elem to the left of 22: [46, 26, 12, 22]\n",
      "All elements apart from current printed reverse: [23, 48, 12, 26, 46]\n",
      "All elements apart from current printed straight: [46, 26, 12, 48]\n",
      "48 -f remaining elem to the right of 48: [23]\n",
      "remaining elem to the left of 48: [46, 26, 12, 22, 48]\n",
      "All elements apart from current printed reverse: [23, 22, 12, 26, 46]\n",
      "All elements apart from current printed straight: [46, 26, 12, 22]\n",
      "23 -f remaining elem to the right of 23: []\n",
      "remaining elem to the left of 23: [46, 26, 12, 22, 48, 23]\n",
      "All elements apart from current printed reverse: [48, 22, 12, 26, 46]\n",
      "All elements apart from current printed straight: [46, 26, 12, 22, 48]\n"
     ]
    }
   ],
   "source": [
    "# without two pointers also, we can extract the elements to \n",
    "# to the right or left of the current\n",
    "import random\n",
    "\n",
    "for ind, f in enumerate(tlist):\n",
    "    print(f, end=' -f ')\n",
    "    rem_e = []\n",
    "    # remaining elems to right, apart from current\n",
    "    print(f\"remaining elem to the right of {f}: {tlist[ind + 1:]}\")\n",
    "    print(f\"remaining elem to the left of {f}: {tlist[:ind + 1]}\")\n",
    "    for x in range(tlen - 1, -1,-1):\n",
    "        if x != ind:\n",
    "            rem_e.append(tlist[x])\n",
    "    # all elements apart from the current\n",
    "    print(f\"All elements apart from current printed reverse: {rem_e}\")\n",
    "    rem_l = []\n",
    "    for x in range(tlen - 1):\n",
    "        if x != ind:\n",
    "            rem_l.append(tlist[x])\n",
    "    print(f\"All elements apart from current printed straight: {rem_l}\")"
   ]
  },
  {
   "cell_type": "code",
   "execution_count": null,
   "metadata": {},
   "outputs": [],
   "source": [
    "# shifting to next pair\n",
    "import random\n",
    "random.seed(56)\n",
    "randlist = [random.randint(15, 25) for _ in range(8)]\n",
    "print(randlist)\n",
    "\n",
    "left, right = 0, 1  # initialize a pair\n",
    "while right < len(randlist):\n",
    "    print(f\"indices {left} and {right}\")\n",
    "    print(randlist[left], randlist[right])\n",
    "    # shift to the next adjacent pair\n",
    "    left, right = right, right + 1\n",
    "\n",
    "\n",
    "# the same can be extended to two pointer where \n",
    "# one moves first for a span, and pulls the other\n",
    "# to it asynchronously\n",
    "left, right = 0, 1\n",
    "span = 0\n",
    "while right < len(randlist):\n",
    "    print(f\"indices left: {left} and right: {right}\")\n",
    "    if span >= 2:\n",
    "        left, right = right, right\n",
    "        span = 0\n",
    "    right += 1\n",
    "    span += 1"
   ]
  },
  {
   "cell_type": "code",
   "execution_count": 4,
   "metadata": {},
   "outputs": [
    {
     "name": "stdout",
     "output_type": "stream",
     "text": [
      "value: 5\n",
      "index 0\n",
      "value: 6\n",
      "index 1\n",
      "value: 2\n",
      "index 2\n",
      "value: 9\n",
      "index 4\n",
      "52\n"
     ]
    }
   ],
   "source": [
    "nms = [5, 6, 2, 7, 9, 52, 86]\n",
    "for ind, i in enumerate(nms):\n",
    "    if i > 50:\n",
    "        print(i)\n",
    "        break\n",
    "    if i == 7:\n",
    "        continue  # loop goes to idx 3 at 9\n",
    "    print(f\"value: {i}\")\n",
    "    print(f'index {ind}')"
   ]
  },
  {
   "cell_type": "code",
   "execution_count": null,
   "metadata": {},
   "outputs": [],
   "source": [
    "nums = [5, 7, 6, 2, 7, 8, 5, 1]\n",
    "for i in range(len(nums)):\n",
    "    # print(i)\n",
    "    counter = sum(1 for elem in nums if elem == nums[i])\n",
    "    print(counter)\n"
   ]
  },
  {
   "cell_type": "markdown",
   "metadata": {},
   "source": [
    "#### Practice Zone"
   ]
  },
  {
   "cell_type": "code",
   "execution_count": 1,
   "metadata": {},
   "outputs": [],
   "source": [
    "# logging practice\n",
    "\n",
    "# Do forward movement on the list\n",
    "\n",
    "# Do the backward movement on the list\n",
    "\n",
    "# Use while loop to traverse the list\n",
    "\n",
    "# Make both the direction elements to be printed, one after the other using single pointer\n",
    "\n",
    "# Two Pointer option, used especially when a second set needs to be extracted.\n",
    "# Two pointers, where the 2nd pointer collects the rest of elements\n",
    "\n",
    "# second pointer has to move the rest of the list with for loop\n",
    "    # second pointer moves from the left of the list\n",
    "    # second pointer moves from the right of the list\n",
    "# second pointer has to move the rest of the list using while loop \n",
    "\n",
    "# print elements to the right and left of the current, excluding it\n",
    "\n",
    "# print elements to the right and left of the current, including it\n",
    "### Above completed..\n",
    "# Use the dictionary to store the elements in reverse and forward\n",
    "\n",
    "# Use the dictionary to store the complements \n",
    "\n",
    "# Implement the sliding window on list, and extract moving lists with pop and append\n",
    "\n",
    "# implement sliding window using the indices\n",
    "\n",
    "# shifting to the next pair \n",
    "\n",
    "# making the right point to move ahead, and then pull the left\n",
    "# to a particular distance or to right's location \n",
    "\n",
    "# Practice to use continue and break\n",
    "\n",
    "# counter technique that enumerates over elems of the array and \n",
    "# checks if meets a condition, makes it 1. After all elems \n",
    "# enumerated it sum"
   ]
  },
  {
   "cell_type": "code",
   "execution_count": 1,
   "metadata": {},
   "outputs": [],
   "source": [
    "import logging\n",
    "\n",
    "plog = logging.getLogger(\"plog\")\n",
    "plog.setLevel(logging.INFO)\n",
    "hndl = logging.StreamHandler()\n",
    "hndl.setLevel(logging.WARNING)\n",
    "fmtr = logging.Formatter(fmt=\"%(message)s - %(levelname)s - %(asctime)s\",\n",
    "                         datefmt='%H-%M:%d-%m')\n",
    "hndl.setFormatter(fmtr)\n",
    "plog.addHandler(hndl)"
   ]
  },
  {
   "cell_type": "code",
   "execution_count": 2,
   "metadata": {},
   "outputs": [
    {
     "name": "stderr",
     "output_type": "stream",
     "text": [
      "This is a test - WARNING - 06-34:08-03\n"
     ]
    }
   ],
   "source": [
    "plog.warning(\"This is a test\")"
   ]
  },
  {
   "cell_type": "code",
   "execution_count": 3,
   "metadata": {},
   "outputs": [
    {
     "name": "stderr",
     "output_type": "stream",
     "text": [
      "new test - CRITICAL - 06-34:08-03\n"
     ]
    }
   ],
   "source": [
    "plog.critical(\"new test\")"
   ]
  },
  {
   "cell_type": "code",
   "execution_count": 4,
   "metadata": {},
   "outputs": [
    {
     "data": {
      "text/plain": [
       "[42, 28, 57, 55, 48, 51, 27, 33]"
      ]
     },
     "execution_count": 4,
     "metadata": {},
     "output_type": "execute_result"
    }
   ],
   "source": [
    "import random\n",
    "random.seed(52)\n",
    "\n",
    "slex = [random.randint(25, 67) for _ in range(8)]\n",
    "slex"
   ]
  },
  {
   "cell_type": "code",
   "execution_count": 6,
   "metadata": {},
   "outputs": [
    {
     "name": "stdout",
     "output_type": "stream",
     "text": [
      "Forward elements 42 Reverse elements 33 Forward elements 28 Reverse elements 27 Forward elements 57 Reverse elements 51 Forward elements 55 Reverse elements 48 Forward elements 48 Reverse elements 55 Forward elements 51 Reverse elements 57 Forward elements 27 Reverse elements 28 Forward elements 33 Reverse elements 42 "
     ]
    }
   ],
   "source": [
    "slen = len(slex)\n",
    "\n",
    "for ind, x in enumerate(slex):\n",
    "    print('Forward elements' , x, end=' ')\n",
    "    print('Reverse elements' , slex[slen - ind - 1], end=' ')"
   ]
  },
  {
   "cell_type": "code",
   "execution_count": 9,
   "metadata": {},
   "outputs": [
    {
     "name": "stdout",
     "output_type": "stream",
     "text": [
      "Forward elements: 42 Reverse elements: 33 Forward elements: 28 Reverse elements: 27 Forward elements: 57 Reverse elements: 51 Forward elements: 55 Reverse elements: 48 Forward elements: 48 Reverse elements: 55 Forward elements: 51 Reverse elements: 57 Forward elements: 27 Reverse elements: 28 Forward elements: 33 Reverse elements: 42 "
     ]
    }
   ],
   "source": [
    "left = 0\n",
    "while left < slen:\n",
    "    print(f'Forward elements: {slex[left]}', end=' ')\n",
    "    print(f'Reverse elements: {slex[slen - left - 1]}', end=' ')\n",
    "    left += 1"
   ]
  },
  {
   "cell_type": "code",
   "execution_count": null,
   "metadata": {},
   "outputs": [],
   "source": [
    "for ind, x in enumerate(slex):\n",
    "    collect = []\n",
    "    print(f'Index at {ind}')\n",
    "    for j in range(ind, slen-1):\n",
    "        collect.append(slex[j])\n",
    "    print(collect)"
   ]
  },
  {
   "cell_type": "code",
   "execution_count": null,
   "metadata": {},
   "outputs": [],
   "source": [
    "left, right = 0, slen - 1\n",
    "while left < slen:\n",
    "    collect_l = []\n",
    "    collect_r = []\n",
    "    for i in range(left, slen):\n",
    "        collect_l.append(slex[i])\n",
    "    print('Left collections: ', collect_l)\n",
    "    for j in range(right, -1, - 1):\n",
    "        collect_r.append(slex[j])\n",
    "    print('Right collections: ', collect_r)\n",
    "    left += 1\n",
    "    right -= 1"
   ]
  },
  {
   "cell_type": "code",
   "execution_count": null,
   "metadata": {},
   "outputs": [],
   "source": [
    "# print element to right and left of the curr\n",
    "for i, val in enumerate(slex):\n",
    "    print(f'current is at {i} with {val}')\n",
    "    print(f'To right {slex[i+1:]}, having {len(slex[i+1:])} elems')\n",
    "    print(f'To left {slex[:i]} having {len(slex[:i])} elems')"
   ]
  },
  {
   "cell_type": "code",
   "execution_count": null,
   "metadata": {},
   "outputs": [],
   "source": [
    "# print element to right & left of the curr with while loop\n",
    "for i, val in enumerate(slex):\n",
    "    ptr = i\n",
    "    ptl = i\n",
    "    collect_r = []\n",
    "    collect_l = []\n",
    "    while ptr < slen - 1:\n",
    "        collect_r.append(slex[ptr])\n",
    "        ptr += 1\n",
    "    print('right collect', collect_r)\n",
    "    while ptl >= 0:\n",
    "        collect_l.insert(0, slex[ptl])\n",
    "        ptl -= 1\n",
    "    print('left_collect', collect_l)"
   ]
  },
  {
   "cell_type": "code",
   "execution_count": 25,
   "metadata": {},
   "outputs": [],
   "source": [
    "from rich import print"
   ]
  },
  {
   "cell_type": "code",
   "execution_count": 26,
   "metadata": {},
   "outputs": [
    {
     "data": {
      "text/html": [
       "<pre style=\"white-space:pre;overflow-x:auto;line-height:normal;font-family:Menlo,'DejaVu Sans Mono',consolas,'Courier New',monospace\"><span style=\"font-weight: bold\">{</span><span style=\"color: #008080; text-decoration-color: #008080; font-weight: bold\">0</span>: <span style=\"color: #008080; text-decoration-color: #008080; font-weight: bold\">33</span>, <span style=\"color: #008080; text-decoration-color: #008080; font-weight: bold\">1</span>: <span style=\"color: #008080; text-decoration-color: #008080; font-weight: bold\">27</span>, <span style=\"color: #008080; text-decoration-color: #008080; font-weight: bold\">2</span>: <span style=\"color: #008080; text-decoration-color: #008080; font-weight: bold\">51</span>, <span style=\"color: #008080; text-decoration-color: #008080; font-weight: bold\">3</span>: <span style=\"color: #008080; text-decoration-color: #008080; font-weight: bold\">48</span>, <span style=\"color: #008080; text-decoration-color: #008080; font-weight: bold\">4</span>: <span style=\"color: #008080; text-decoration-color: #008080; font-weight: bold\">55</span>, <span style=\"color: #008080; text-decoration-color: #008080; font-weight: bold\">5</span>: <span style=\"color: #008080; text-decoration-color: #008080; font-weight: bold\">57</span>, <span style=\"color: #008080; text-decoration-color: #008080; font-weight: bold\">6</span>: <span style=\"color: #008080; text-decoration-color: #008080; font-weight: bold\">28</span>, <span style=\"color: #008080; text-decoration-color: #008080; font-weight: bold\">7</span>: <span style=\"color: #008080; text-decoration-color: #008080; font-weight: bold\">42</span><span style=\"font-weight: bold\">}</span>\n",
       "</pre>\n"
      ],
      "text/plain": [
       "\u001b[1m{\u001b[0m\u001b[1;36m0\u001b[0m: \u001b[1;36m33\u001b[0m, \u001b[1;36m1\u001b[0m: \u001b[1;36m27\u001b[0m, \u001b[1;36m2\u001b[0m: \u001b[1;36m51\u001b[0m, \u001b[1;36m3\u001b[0m: \u001b[1;36m48\u001b[0m, \u001b[1;36m4\u001b[0m: \u001b[1;36m55\u001b[0m, \u001b[1;36m5\u001b[0m: \u001b[1;36m57\u001b[0m, \u001b[1;36m6\u001b[0m: \u001b[1;36m28\u001b[0m, \u001b[1;36m7\u001b[0m: \u001b[1;36m42\u001b[0m\u001b[1m}\u001b[0m\n"
      ]
     },
     "metadata": {},
     "output_type": "display_data"
    },
    {
     "data": {
      "text/html": [
       "<pre style=\"white-space:pre;overflow-x:auto;line-height:normal;font-family:Menlo,'DejaVu Sans Mono',consolas,'Courier New',monospace\"><span style=\"font-weight: bold\">{</span><span style=\"color: #008080; text-decoration-color: #008080; font-weight: bold\">0</span>: <span style=\"color: #008080; text-decoration-color: #008080; font-weight: bold\">42</span>, <span style=\"color: #008080; text-decoration-color: #008080; font-weight: bold\">1</span>: <span style=\"color: #008080; text-decoration-color: #008080; font-weight: bold\">28</span>, <span style=\"color: #008080; text-decoration-color: #008080; font-weight: bold\">2</span>: <span style=\"color: #008080; text-decoration-color: #008080; font-weight: bold\">57</span>, <span style=\"color: #008080; text-decoration-color: #008080; font-weight: bold\">3</span>: <span style=\"color: #008080; text-decoration-color: #008080; font-weight: bold\">55</span>, <span style=\"color: #008080; text-decoration-color: #008080; font-weight: bold\">4</span>: <span style=\"color: #008080; text-decoration-color: #008080; font-weight: bold\">48</span>, <span style=\"color: #008080; text-decoration-color: #008080; font-weight: bold\">5</span>: <span style=\"color: #008080; text-decoration-color: #008080; font-weight: bold\">51</span>, <span style=\"color: #008080; text-decoration-color: #008080; font-weight: bold\">6</span>: <span style=\"color: #008080; text-decoration-color: #008080; font-weight: bold\">27</span>, <span style=\"color: #008080; text-decoration-color: #008080; font-weight: bold\">7</span>: <span style=\"color: #008080; text-decoration-color: #008080; font-weight: bold\">33</span><span style=\"font-weight: bold\">}</span>\n",
       "</pre>\n"
      ],
      "text/plain": [
       "\u001b[1m{\u001b[0m\u001b[1;36m0\u001b[0m: \u001b[1;36m42\u001b[0m, \u001b[1;36m1\u001b[0m: \u001b[1;36m28\u001b[0m, \u001b[1;36m2\u001b[0m: \u001b[1;36m57\u001b[0m, \u001b[1;36m3\u001b[0m: \u001b[1;36m55\u001b[0m, \u001b[1;36m4\u001b[0m: \u001b[1;36m48\u001b[0m, \u001b[1;36m5\u001b[0m: \u001b[1;36m51\u001b[0m, \u001b[1;36m6\u001b[0m: \u001b[1;36m27\u001b[0m, \u001b[1;36m7\u001b[0m: \u001b[1;36m33\u001b[0m\u001b[1m}\u001b[0m\n"
      ]
     },
     "metadata": {},
     "output_type": "display_data"
    }
   ],
   "source": [
    "memo_r = {}\n",
    "memo_l = {}\n",
    "\n",
    "for i, val in enumerate(slex):\n",
    "    memo_r[i] = val\n",
    "    memo_l[i] = slex[slen - i - 1] \n",
    "\n",
    "print(memo_l)\n",
    "print(memo_r)"
   ]
  },
  {
   "cell_type": "code",
   "execution_count": 29,
   "metadata": {},
   "outputs": [
    {
     "data": {
      "text/html": [
       "<pre style=\"white-space:pre;overflow-x:auto;line-height:normal;font-family:Menlo,'DejaVu Sans Mono',consolas,'Courier New',monospace\">vals as <span style=\"color: #008080; text-decoration-color: #008080; font-weight: bold\">0</span> and <span style=\"color: #008080; text-decoration-color: #008080; font-weight: bold\">1</span> are <span style=\"font-weight: bold\">(</span><span style=\"color: #008080; text-decoration-color: #008080; font-weight: bold\">42</span>, <span style=\"color: #008080; text-decoration-color: #008080; font-weight: bold\">28</span><span style=\"font-weight: bold\">)</span>\n",
       "</pre>\n"
      ],
      "text/plain": [
       "vals as \u001b[1;36m0\u001b[0m and \u001b[1;36m1\u001b[0m are \u001b[1m(\u001b[0m\u001b[1;36m42\u001b[0m, \u001b[1;36m28\u001b[0m\u001b[1m)\u001b[0m\n"
      ]
     },
     "metadata": {},
     "output_type": "display_data"
    },
    {
     "data": {
      "text/html": [
       "<pre style=\"white-space:pre;overflow-x:auto;line-height:normal;font-family:Menlo,'DejaVu Sans Mono',consolas,'Courier New',monospace\">vals as <span style=\"color: #008080; text-decoration-color: #008080; font-weight: bold\">1</span> and <span style=\"color: #008080; text-decoration-color: #008080; font-weight: bold\">2</span> are <span style=\"font-weight: bold\">(</span><span style=\"color: #008080; text-decoration-color: #008080; font-weight: bold\">28</span>, <span style=\"color: #008080; text-decoration-color: #008080; font-weight: bold\">57</span><span style=\"font-weight: bold\">)</span>\n",
       "</pre>\n"
      ],
      "text/plain": [
       "vals as \u001b[1;36m1\u001b[0m and \u001b[1;36m2\u001b[0m are \u001b[1m(\u001b[0m\u001b[1;36m28\u001b[0m, \u001b[1;36m57\u001b[0m\u001b[1m)\u001b[0m\n"
      ]
     },
     "metadata": {},
     "output_type": "display_data"
    },
    {
     "data": {
      "text/html": [
       "<pre style=\"white-space:pre;overflow-x:auto;line-height:normal;font-family:Menlo,'DejaVu Sans Mono',consolas,'Courier New',monospace\">vals as <span style=\"color: #008080; text-decoration-color: #008080; font-weight: bold\">2</span> and <span style=\"color: #008080; text-decoration-color: #008080; font-weight: bold\">3</span> are <span style=\"font-weight: bold\">(</span><span style=\"color: #008080; text-decoration-color: #008080; font-weight: bold\">57</span>, <span style=\"color: #008080; text-decoration-color: #008080; font-weight: bold\">55</span><span style=\"font-weight: bold\">)</span>\n",
       "</pre>\n"
      ],
      "text/plain": [
       "vals as \u001b[1;36m2\u001b[0m and \u001b[1;36m3\u001b[0m are \u001b[1m(\u001b[0m\u001b[1;36m57\u001b[0m, \u001b[1;36m55\u001b[0m\u001b[1m)\u001b[0m\n"
      ]
     },
     "metadata": {},
     "output_type": "display_data"
    },
    {
     "data": {
      "text/html": [
       "<pre style=\"white-space:pre;overflow-x:auto;line-height:normal;font-family:Menlo,'DejaVu Sans Mono',consolas,'Courier New',monospace\">vals as <span style=\"color: #008080; text-decoration-color: #008080; font-weight: bold\">3</span> and <span style=\"color: #008080; text-decoration-color: #008080; font-weight: bold\">4</span> are <span style=\"font-weight: bold\">(</span><span style=\"color: #008080; text-decoration-color: #008080; font-weight: bold\">55</span>, <span style=\"color: #008080; text-decoration-color: #008080; font-weight: bold\">48</span><span style=\"font-weight: bold\">)</span>\n",
       "</pre>\n"
      ],
      "text/plain": [
       "vals as \u001b[1;36m3\u001b[0m and \u001b[1;36m4\u001b[0m are \u001b[1m(\u001b[0m\u001b[1;36m55\u001b[0m, \u001b[1;36m48\u001b[0m\u001b[1m)\u001b[0m\n"
      ]
     },
     "metadata": {},
     "output_type": "display_data"
    },
    {
     "data": {
      "text/html": [
       "<pre style=\"white-space:pre;overflow-x:auto;line-height:normal;font-family:Menlo,'DejaVu Sans Mono',consolas,'Courier New',monospace\">vals as <span style=\"color: #008080; text-decoration-color: #008080; font-weight: bold\">4</span> and <span style=\"color: #008080; text-decoration-color: #008080; font-weight: bold\">5</span> are <span style=\"font-weight: bold\">(</span><span style=\"color: #008080; text-decoration-color: #008080; font-weight: bold\">48</span>, <span style=\"color: #008080; text-decoration-color: #008080; font-weight: bold\">51</span><span style=\"font-weight: bold\">)</span>\n",
       "</pre>\n"
      ],
      "text/plain": [
       "vals as \u001b[1;36m4\u001b[0m and \u001b[1;36m5\u001b[0m are \u001b[1m(\u001b[0m\u001b[1;36m48\u001b[0m, \u001b[1;36m51\u001b[0m\u001b[1m)\u001b[0m\n"
      ]
     },
     "metadata": {},
     "output_type": "display_data"
    },
    {
     "data": {
      "text/html": [
       "<pre style=\"white-space:pre;overflow-x:auto;line-height:normal;font-family:Menlo,'DejaVu Sans Mono',consolas,'Courier New',monospace\">vals as <span style=\"color: #008080; text-decoration-color: #008080; font-weight: bold\">5</span> and <span style=\"color: #008080; text-decoration-color: #008080; font-weight: bold\">6</span> are <span style=\"font-weight: bold\">(</span><span style=\"color: #008080; text-decoration-color: #008080; font-weight: bold\">51</span>, <span style=\"color: #008080; text-decoration-color: #008080; font-weight: bold\">27</span><span style=\"font-weight: bold\">)</span>\n",
       "</pre>\n"
      ],
      "text/plain": [
       "vals as \u001b[1;36m5\u001b[0m and \u001b[1;36m6\u001b[0m are \u001b[1m(\u001b[0m\u001b[1;36m51\u001b[0m, \u001b[1;36m27\u001b[0m\u001b[1m)\u001b[0m\n"
      ]
     },
     "metadata": {},
     "output_type": "display_data"
    },
    {
     "data": {
      "text/html": [
       "<pre style=\"white-space:pre;overflow-x:auto;line-height:normal;font-family:Menlo,'DejaVu Sans Mono',consolas,'Courier New',monospace\">vals as <span style=\"color: #008080; text-decoration-color: #008080; font-weight: bold\">6</span> and <span style=\"color: #008080; text-decoration-color: #008080; font-weight: bold\">7</span> are <span style=\"font-weight: bold\">(</span><span style=\"color: #008080; text-decoration-color: #008080; font-weight: bold\">27</span>, <span style=\"color: #008080; text-decoration-color: #008080; font-weight: bold\">33</span><span style=\"font-weight: bold\">)</span>\n",
       "</pre>\n"
      ],
      "text/plain": [
       "vals as \u001b[1;36m6\u001b[0m and \u001b[1;36m7\u001b[0m are \u001b[1m(\u001b[0m\u001b[1;36m27\u001b[0m, \u001b[1;36m33\u001b[0m\u001b[1m)\u001b[0m\n"
      ]
     },
     "metadata": {},
     "output_type": "display_data"
    }
   ],
   "source": [
    "l, r = 0, 1\n",
    "while l < slen - 1:\n",
    "    print(f'vals as {l} and {r} are {slex[l], slex[r]}')\n",
    "    l, r = r, r + 1"
   ]
  },
  {
   "cell_type": "code",
   "execution_count": null,
   "metadata": {},
   "outputs": [],
   "source": [
    "l, r = 0, 1\n",
    "while l < slen:\n",
    "    print(f'vals as {l} and {r} are {slex[l], slex[l:r]}')\n",
    "    l, r = l + 1, r + 2\n",
    "    if r > slen:\n",
    "        r = slen"
   ]
  },
  {
   "cell_type": "code",
   "execution_count": 40,
   "metadata": {},
   "outputs": [
    {
     "data": {
      "text/html": [
       "<pre style=\"white-space:pre;overflow-x:auto;line-height:normal;font-family:Menlo,'DejaVu Sans Mono',consolas,'Courier New',monospace\"><span style=\"font-weight: bold\">[</span><span style=\"color: #008080; text-decoration-color: #008080; font-weight: bold\">42</span>, <span style=\"color: #008080; text-decoration-color: #008080; font-weight: bold\">28</span>, <span style=\"color: #008080; text-decoration-color: #008080; font-weight: bold\">57</span><span style=\"font-weight: bold\">]</span>\n",
       "</pre>\n"
      ],
      "text/plain": [
       "\u001b[1m[\u001b[0m\u001b[1;36m42\u001b[0m, \u001b[1;36m28\u001b[0m, \u001b[1;36m57\u001b[0m\u001b[1m]\u001b[0m\n"
      ]
     },
     "metadata": {},
     "output_type": "display_data"
    },
    {
     "data": {
      "text/html": [
       "<pre style=\"white-space:pre;overflow-x:auto;line-height:normal;font-family:Menlo,'DejaVu Sans Mono',consolas,'Courier New',monospace\"><span style=\"font-weight: bold\">[</span><span style=\"color: #008080; text-decoration-color: #008080; font-weight: bold\">28</span>, <span style=\"color: #008080; text-decoration-color: #008080; font-weight: bold\">57</span>, <span style=\"color: #008080; text-decoration-color: #008080; font-weight: bold\">55</span><span style=\"font-weight: bold\">]</span>\n",
       "</pre>\n"
      ],
      "text/plain": [
       "\u001b[1m[\u001b[0m\u001b[1;36m28\u001b[0m, \u001b[1;36m57\u001b[0m, \u001b[1;36m55\u001b[0m\u001b[1m]\u001b[0m\n"
      ]
     },
     "metadata": {},
     "output_type": "display_data"
    },
    {
     "data": {
      "text/html": [
       "<pre style=\"white-space:pre;overflow-x:auto;line-height:normal;font-family:Menlo,'DejaVu Sans Mono',consolas,'Courier New',monospace\"><span style=\"font-weight: bold\">[</span><span style=\"color: #008080; text-decoration-color: #008080; font-weight: bold\">57</span>, <span style=\"color: #008080; text-decoration-color: #008080; font-weight: bold\">55</span>, <span style=\"color: #008080; text-decoration-color: #008080; font-weight: bold\">48</span><span style=\"font-weight: bold\">]</span>\n",
       "</pre>\n"
      ],
      "text/plain": [
       "\u001b[1m[\u001b[0m\u001b[1;36m57\u001b[0m, \u001b[1;36m55\u001b[0m, \u001b[1;36m48\u001b[0m\u001b[1m]\u001b[0m\n"
      ]
     },
     "metadata": {},
     "output_type": "display_data"
    },
    {
     "data": {
      "text/html": [
       "<pre style=\"white-space:pre;overflow-x:auto;line-height:normal;font-family:Menlo,'DejaVu Sans Mono',consolas,'Courier New',monospace\"><span style=\"font-weight: bold\">[</span><span style=\"color: #008080; text-decoration-color: #008080; font-weight: bold\">55</span>, <span style=\"color: #008080; text-decoration-color: #008080; font-weight: bold\">48</span>, <span style=\"color: #008080; text-decoration-color: #008080; font-weight: bold\">51</span><span style=\"font-weight: bold\">]</span>\n",
       "</pre>\n"
      ],
      "text/plain": [
       "\u001b[1m[\u001b[0m\u001b[1;36m55\u001b[0m, \u001b[1;36m48\u001b[0m, \u001b[1;36m51\u001b[0m\u001b[1m]\u001b[0m\n"
      ]
     },
     "metadata": {},
     "output_type": "display_data"
    },
    {
     "data": {
      "text/html": [
       "<pre style=\"white-space:pre;overflow-x:auto;line-height:normal;font-family:Menlo,'DejaVu Sans Mono',consolas,'Courier New',monospace\"><span style=\"font-weight: bold\">[</span><span style=\"color: #008080; text-decoration-color: #008080; font-weight: bold\">48</span>, <span style=\"color: #008080; text-decoration-color: #008080; font-weight: bold\">51</span>, <span style=\"color: #008080; text-decoration-color: #008080; font-weight: bold\">27</span><span style=\"font-weight: bold\">]</span>\n",
       "</pre>\n"
      ],
      "text/plain": [
       "\u001b[1m[\u001b[0m\u001b[1;36m48\u001b[0m, \u001b[1;36m51\u001b[0m, \u001b[1;36m27\u001b[0m\u001b[1m]\u001b[0m\n"
      ]
     },
     "metadata": {},
     "output_type": "display_data"
    },
    {
     "data": {
      "text/html": [
       "<pre style=\"white-space:pre;overflow-x:auto;line-height:normal;font-family:Menlo,'DejaVu Sans Mono',consolas,'Courier New',monospace\"><span style=\"font-weight: bold\">[</span><span style=\"color: #008080; text-decoration-color: #008080; font-weight: bold\">51</span>, <span style=\"color: #008080; text-decoration-color: #008080; font-weight: bold\">27</span>, <span style=\"color: #008080; text-decoration-color: #008080; font-weight: bold\">33</span><span style=\"font-weight: bold\">]</span>\n",
       "</pre>\n"
      ],
      "text/plain": [
       "\u001b[1m[\u001b[0m\u001b[1;36m51\u001b[0m, \u001b[1;36m27\u001b[0m, \u001b[1;36m33\u001b[0m\u001b[1m]\u001b[0m\n"
      ]
     },
     "metadata": {},
     "output_type": "display_data"
    }
   ],
   "source": [
    "win = 3\n",
    "for i, val in enumerate(slex):\n",
    "    window = slex[i:win + i]\n",
    "    print(window)\n",
    "    if i + 3 > slen - 1:\n",
    "        break"
   ]
  },
  {
   "cell_type": "code",
   "execution_count": null,
   "metadata": {},
   "outputs": [],
   "source": [
    "win = 3\n",
    "left = 0\n",
    "while left < slen - win:\n",
    "    print(slex[left:left + win])\n",
    "    left += 1"
   ]
  },
  {
   "cell_type": "code",
   "execution_count": 46,
   "metadata": {},
   "outputs": [
    {
     "data": {
      "text/html": [
       "<pre style=\"white-space:pre;overflow-x:auto;line-height:normal;font-family:Menlo,'DejaVu Sans Mono',consolas,'Courier New',monospace\"><span style=\"color: #008080; text-decoration-color: #008080; font-weight: bold\">1</span>\n",
       "</pre>\n"
      ],
      "text/plain": [
       "\u001b[1;36m1\u001b[0m\n"
      ]
     },
     "metadata": {},
     "output_type": "display_data"
    },
    {
     "data": {
      "text/html": [
       "<pre style=\"white-space:pre;overflow-x:auto;line-height:normal;font-family:Menlo,'DejaVu Sans Mono',consolas,'Courier New',monospace\"><span style=\"color: #008080; text-decoration-color: #008080; font-weight: bold\">3</span>\n",
       "</pre>\n"
      ],
      "text/plain": [
       "\u001b[1;36m3\u001b[0m\n"
      ]
     },
     "metadata": {},
     "output_type": "display_data"
    },
    {
     "data": {
      "text/html": [
       "<pre style=\"white-space:pre;overflow-x:auto;line-height:normal;font-family:Menlo,'DejaVu Sans Mono',consolas,'Courier New',monospace\"><span style=\"color: #008080; text-decoration-color: #008080; font-weight: bold\">5</span>\n",
       "</pre>\n"
      ],
      "text/plain": [
       "\u001b[1;36m5\u001b[0m\n"
      ]
     },
     "metadata": {},
     "output_type": "display_data"
    },
    {
     "data": {
      "text/html": [
       "<pre style=\"white-space:pre;overflow-x:auto;line-height:normal;font-family:Menlo,'DejaVu Sans Mono',consolas,'Courier New',monospace\"><span style=\"color: #008080; text-decoration-color: #008080; font-weight: bold\">7</span>\n",
       "</pre>\n"
      ],
      "text/plain": [
       "\u001b[1;36m7\u001b[0m\n"
      ]
     },
     "metadata": {},
     "output_type": "display_data"
    },
    {
     "data": {
      "text/html": [
       "<pre style=\"white-space:pre;overflow-x:auto;line-height:normal;font-family:Menlo,'DejaVu Sans Mono',consolas,'Courier New',monospace\"><span style=\"color: #008080; text-decoration-color: #008080; font-weight: bold\">0</span>\n",
       "</pre>\n"
      ],
      "text/plain": [
       "\u001b[1;36m0\u001b[0m\n"
      ]
     },
     "metadata": {},
     "output_type": "display_data"
    },
    {
     "data": {
      "text/html": [
       "<pre style=\"white-space:pre;overflow-x:auto;line-height:normal;font-family:Menlo,'DejaVu Sans Mono',consolas,'Courier New',monospace\"><span style=\"color: #008080; text-decoration-color: #008080; font-weight: bold\">1</span>\n",
       "</pre>\n"
      ],
      "text/plain": [
       "\u001b[1;36m1\u001b[0m\n"
      ]
     },
     "metadata": {},
     "output_type": "display_data"
    },
    {
     "data": {
      "text/html": [
       "<pre style=\"white-space:pre;overflow-x:auto;line-height:normal;font-family:Menlo,'DejaVu Sans Mono',consolas,'Courier New',monospace\"><span style=\"color: #008080; text-decoration-color: #008080; font-weight: bold\">2</span>\n",
       "</pre>\n"
      ],
      "text/plain": [
       "\u001b[1;36m2\u001b[0m\n"
      ]
     },
     "metadata": {},
     "output_type": "display_data"
    },
    {
     "data": {
      "text/html": [
       "<pre style=\"white-space:pre;overflow-x:auto;line-height:normal;font-family:Menlo,'DejaVu Sans Mono',consolas,'Courier New',monospace\"><span style=\"color: #008080; text-decoration-color: #008080; font-weight: bold\">3</span>\n",
       "</pre>\n"
      ],
      "text/plain": [
       "\u001b[1;36m3\u001b[0m\n"
      ]
     },
     "metadata": {},
     "output_type": "display_data"
    },
    {
     "data": {
      "text/html": [
       "<pre style=\"white-space:pre;overflow-x:auto;line-height:normal;font-family:Menlo,'DejaVu Sans Mono',consolas,'Courier New',monospace\"><span style=\"color: #008080; text-decoration-color: #008080; font-weight: bold\">4</span>\n",
       "</pre>\n"
      ],
      "text/plain": [
       "\u001b[1;36m4\u001b[0m\n"
      ]
     },
     "metadata": {},
     "output_type": "display_data"
    },
    {
     "data": {
      "text/html": [
       "<pre style=\"white-space:pre;overflow-x:auto;line-height:normal;font-family:Menlo,'DejaVu Sans Mono',consolas,'Courier New',monospace\"><span style=\"color: #008080; text-decoration-color: #008080; font-weight: bold\">5</span>\n",
       "</pre>\n"
      ],
      "text/plain": [
       "\u001b[1;36m5\u001b[0m\n"
      ]
     },
     "metadata": {},
     "output_type": "display_data"
    },
    {
     "data": {
      "text/html": [
       "<pre style=\"white-space:pre;overflow-x:auto;line-height:normal;font-family:Menlo,'DejaVu Sans Mono',consolas,'Courier New',monospace\"><span style=\"color: #008080; text-decoration-color: #008080; font-weight: bold\">6</span>\n",
       "</pre>\n"
      ],
      "text/plain": [
       "\u001b[1;36m6\u001b[0m\n"
      ]
     },
     "metadata": {},
     "output_type": "display_data"
    }
   ],
   "source": [
    "for i, val in enumerate(slex):\n",
    "    if i % 2 == 0:\n",
    "        continue\n",
    "    print(i)\n",
    "\n",
    "for i in range(15):\n",
    "    if i > 6:\n",
    "        break\n",
    "    print(i)"
   ]
  }
 ],
 "metadata": {
  "kernelspec": {
   "display_name": "Python 3",
   "language": "python",
   "name": "python3"
  },
  "language_info": {
   "codemirror_mode": {
    "name": "ipython",
    "version": 3
   },
   "file_extension": ".py",
   "mimetype": "text/x-python",
   "name": "python",
   "nbconvert_exporter": "python",
   "pygments_lexer": "ipython3",
   "version": "3.11.4"
  }
 },
 "nbformat": 4,
 "nbformat_minor": 2
}
