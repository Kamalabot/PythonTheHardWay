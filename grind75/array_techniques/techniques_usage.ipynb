{
 "cells": [
  {
   "cell_type": "code",
   "execution_count": 2,
   "metadata": {},
   "outputs": [],
   "source": [
    "techs = {\n",
    "  \"Array Techniques\": [\n",
    "    {\n",
    "      \"Technique\": \"Brute Force\",\n",
    "      \"Example\": \"Finding maximum subarray sum\",\n",
    "      \"Code\": \"```python\\n# Brute Force\\n```\"\n",
    "    },\n",
    "    {\n",
    "      \"Technique\": \"Two Pointers\",\n",
    "      \"Example\": \"Two Sum\",\n",
    "      \"Code\": \"```python\\n# Two Pointers\\n```\"\n",
    "    },\n",
    "    {\n",
    "      \"Technique\": \"Sliding Window\",\n",
    "      \"Example\": \"Maximum Sum Subarray of Fixed Size K\",\n",
    "      \"Code\": \"```python\\n# Sliding Window\\n```\"\n",
    "    },\n",
    "    {\n",
    "      \"Technique\": \"Sorting\",\n",
    "      \"Example\": \"Intersection of Two Arrays II\",\n",
    "      \"Code\": \"```python\\n# Sorting\\n```\"\n",
    "    },\n",
    "    {\n",
    "      \"Technique\": \"Greedy\",\n",
    "      \"Example\": \"Jump Game\",\n",
    "      \"Code\": \"```python\\n# Greedy\\n```\"\n",
    "    },\n",
    "    {\n",
    "      \"Technique\": \"Hashing\",\n",
    "      \"Example\": \"Two Sum\",\n",
    "      \"Code\": \"```python\\n# Hashing\\n```\"\n",
    "    },\n",
    "    {\n",
    "      \"Technique\": \"Dynamic Programming\",\n",
    "      \"Example\": \"Maximum Subarray Sum\",\n",
    "      \"Code\": \"```python\\n# Dynamic Programming\\n```\"\n",
    "    }\n",
    "  ]\n",
    "}"
   ]
  },
  {
   "cell_type": "code",
   "execution_count": 7,
   "metadata": {},
   "outputs": [],
   "source": [
    "# Each of the data structures have \n",
    "# their own time_complexities, need to check.\n",
    "time_complexity = {\n",
    "    \"access\": \"O(1)\",\n",
    "    \"search\": \"O(n)\",\n",
    "    \"sorted_search\": \"O(log(n))\",\n",
    "    \"insert\": \"O(n)\",\n",
    "    \"append\": \"O(1)\",\n",
    "    \"remove\": \"O(n)\",\n",
    "    \"remove_end\": \"O(1)\",\n",
    "    \"reversing\": \"O(n)\"\n",
    "}\n",
    "# https://stackoverflow.com/questions/45330006/what-is-the-time-complexity-and-space-complexity-of-array-1"
   ]
  },
  {
   "cell_type": "code",
   "execution_count": 3,
   "metadata": {},
   "outputs": [],
   "source": [
    "# Mastering Sliding Window technique \n",
    "# Useful when solving problems that involve subarray and subsequence, by maintaining window"
   ]
  },
  {
   "cell_type": "markdown",
   "metadata": {},
   "source": [
    "#### Maximum Sum Subarray of Size K\n",
    "\n",
    "Problem: Given an Array of integers and integer K, find the maximum sum of the subarray of size k\n",
    "\n",
    "Subarray : A range of contiguous values within array\n",
    "\n",
    "Subsequence : A sequence derived from given sequence by deleting some / no elements, \"without\" changing the order of elements. "
   ]
  },
  {
   "cell_type": "code",
   "execution_count": 7,
   "metadata": {},
   "outputs": [
    {
     "data": {
      "text/plain": [
       "[5, 7, 6, -8]"
      ]
     },
     "execution_count": 7,
     "metadata": {},
     "output_type": "execute_result"
    }
   ],
   "source": [
    "nums = [5, 7, 6, -8, 9, -2, 3, 4]\n",
    "nums[:4]"
   ]
  },
  {
   "cell_type": "code",
   "execution_count": 5,
   "metadata": {},
   "outputs": [
    {
     "name": "stdout",
     "output_type": "stream",
     "text": [
      "4\n",
      "5\n",
      "6\n",
      "7\n"
     ]
    }
   ],
   "source": [
    "for i in range(4, len(nums)):\n",
    "    print(i)"
   ]
  },
  {
   "cell_type": "code",
   "execution_count": 4,
   "metadata": {},
   "outputs": [
    {
     "data": {
      "text/plain": [
       "[5, 7, 6, 8, 9, 2, 3, 4]"
      ]
     },
     "execution_count": 4,
     "metadata": {},
     "output_type": "execute_result"
    }
   ],
   "source": [
    "nums[0:8]"
   ]
  },
  {
   "cell_type": "code",
   "execution_count": 3,
   "metadata": {},
   "outputs": [
    {
     "data": {
      "text/plain": [
       "8"
      ]
     },
     "execution_count": 3,
     "metadata": {},
     "output_type": "execute_result"
    }
   ],
   "source": [
    "len(nums)"
   ]
  },
  {
   "cell_type": "code",
   "execution_count": 8,
   "metadata": {},
   "outputs": [
    {
     "data": {
      "text/plain": [
       "24"
      ]
     },
     "execution_count": 8,
     "metadata": {},
     "output_type": "execute_result"
    }
   ],
   "source": [
    "sum(nums)"
   ]
  },
  {
   "cell_type": "code",
   "execution_count": null,
   "metadata": {},
   "outputs": [],
   "source": [
    "def reverse(array):\n",
    "    \"\"\"Reversing Array with while loop\"\"\"\n",
    "    start, end = 0, len(array)-1  # create start, end vars\n",
    "    while start < end: # while start is less than end\n",
    "        array[start], array[end] = array[end], array[start]\n",
    "        start += 1  # move start to left by a step\n",
    "        end -= 1  # move end to right by a step"
   ]
  },
  {
   "cell_type": "code",
   "execution_count": 10,
   "metadata": {},
   "outputs": [],
   "source": [
    "# Brute Force Tech\n",
    "def max_sum_sa_brute(nums):\n",
    "    n = len(nums)\n",
    "    max_sum = float('-inf')\n",
    "    start_idx, end_idx = 0, 0  # keeps track of start & end\n",
    "\n",
    "    for i in range(n):  # start at index 0\n",
    "        current_sum = 0  # initialize sum_tracker\n",
    "        # print(nums[i:n])\n",
    "        for ind, ele in enumerate(nums[i:n]):\n",
    "            # enumerate from 0 to length of list\n",
    "            current_sum += ele  # add elem to curr_sum\n",
    "            # check if the current sum is bigger than max_sum\n",
    "            if current_sum > max_sum: \n",
    "                # start & end are updated only if new sum is bigger \n",
    "                max_sum = current_sum\n",
    "                start_idx, end_idx = i, ind+i  # i remains stationary\n",
    "        # have to complete the entire loop, as the max sum can be anywhere\n",
    "    return start_idx, end_idx, max_sum"
   ]
  },
  {
   "cell_type": "code",
   "execution_count": 11,
   "metadata": {},
   "outputs": [
    {
     "data": {
      "text/plain": [
       "(0, 7, 24)"
      ]
     },
     "execution_count": 11,
     "metadata": {},
     "output_type": "execute_result"
    }
   ],
   "source": [
    "max_sum_sa_brute(nums)"
   ]
  },
  {
   "cell_type": "code",
   "execution_count": 16,
   "metadata": {},
   "outputs": [
    {
     "name": "stdout",
     "output_type": "stream",
     "text": [
      "3\n",
      "[5, 7, 6]\n",
      "0 0\n",
      "0 1\n",
      "0 2\n",
      "2\n",
      "[7, 6]\n",
      "1 0\n",
      "1 1\n",
      "1\n",
      "[6]\n",
      "2 0\n"
     ]
    }
   ],
   "source": [
    "nl = len(nums) - 5\n",
    "for i in range(nl):\n",
    "    print(len(nums[i:nl]))\n",
    "    print(nums[i:nl])\n",
    "    for ind, ele in enumerate(nums[i:nl]):\n",
    "        print(i, ind)"
   ]
  },
  {
   "cell_type": "code",
   "execution_count": 4,
   "metadata": {},
   "outputs": [
    {
     "name": "stdout",
     "output_type": "stream",
     "text": [
      "[-2, 1, -3, 4, -1, 2, 1, -5, 4]\n",
      "[1, -3, 4, -1, 2, 1, -5, 4]\n",
      "[-3, 4, -1, 2, 1, -5, 4]\n",
      "[4, -1, 2, 1, -5, 4]\n",
      "[-1, 2, 1, -5, 4]\n",
      "[2, 1, -5, 4]\n",
      "[1, -5, 4]\n",
      "[-5, 4]\n",
      "[4]\n"
     ]
    },
    {
     "data": {
      "text/plain": [
       "(3, 6, 6)"
      ]
     },
     "execution_count": 4,
     "metadata": {},
     "output_type": "execute_result"
    }
   ],
   "source": [
    "nums = [-2, 1, -3, 4, -1, 2, 1, -5, 4]\n",
    "max_sum_sa_brute(nums)"
   ]
  },
  {
   "cell_type": "code",
   "execution_count": 27,
   "metadata": {},
   "outputs": [
    {
     "data": {
      "text/plain": [
       "[50, 17, 11, 27, 25, 24, 18, 16]"
      ]
     },
     "execution_count": 27,
     "metadata": {},
     "output_type": "execute_result"
    }
   ],
   "source": [
    "import random \n",
    "random.seed(42)\n",
    "trom = [random.randint(10, 50) for _ in range(8)]\n",
    "trom "
   ]
  },
  {
   "cell_type": "code",
   "execution_count": 8,
   "metadata": {},
   "outputs": [
    {
     "data": {
      "text/plain": [
       "23"
      ]
     },
     "execution_count": 8,
     "metadata": {},
     "output_type": "execute_result"
    }
   ],
   "source": [
    "# Sliding Window Tech\n",
    "def max_sum_subarray(nums, k):\n",
    "    win_sum = sum(nums[:k])  # get sum of the first k elements\n",
    "    max_sum = win_sum  # make that sum as max sum \n",
    "\n",
    "    for i in range(k, len(nums)):  # as it is subarray, it has to be contiguous\n",
    "        win_sum = win_sum - nums[i - k] + nums[i]\n",
    "        # remove the values outside the window from win_sum and add new values\n",
    "        max_sum = max(max_sum, win_sum)\n",
    "\n",
    "    return max_sum\n",
    "\n",
    "max_sum_subarray(nums, 3)"
   ]
  },
  {
   "cell_type": "code",
   "execution_count": 41,
   "metadata": {},
   "outputs": [
    {
     "name": "stdout",
     "output_type": "stream",
     "text": [
      "[5, 7, 6]\n",
      "[8, 9, 2] 5 8\n",
      "[9, 2, 3] 7 9\n",
      "[2, 3, 4] 6 2\n",
      "[3, 4] 8 3\n",
      "[4] 9 4\n"
     ]
    }
   ],
   "source": [
    "# implementing the above without summing\n",
    "# picking out first from left, and adding new one on right\n",
    "w_k = 3\n",
    "print(nums[:w_k])\n",
    "for i in range(3, 8):\n",
    "    print(nums[i:i+w_k], nums[i - w_k], nums[i])"
   ]
  },
  {
   "cell_type": "code",
   "execution_count": 25,
   "metadata": {},
   "outputs": [
    {
     "data": {
      "text/plain": [
       "[[5, 7, 6], [7, 6, 8], [6, 8, 9], [8, 9, 2], [9, 2, 3], [2, 3, 4]]"
      ]
     },
     "execution_count": 25,
     "metadata": {},
     "output_type": "execute_result"
    }
   ],
   "source": [
    "def slide_array(nums, k):\n",
    "    slides = []  # store  the slides\n",
    "    # start = nums[:k]  # get the first slide\n",
    "    # slides.append(start)  # append it to the slides\n",
    "\n",
    "    for i in range(len(nums)):\n",
    "        subarr = nums[i:i+k]\n",
    "        if len(subarr) == k:  # include only the subarray of length k\n",
    "            slides.append(subarr)\n",
    "    return slides\n",
    "\n",
    "nums = [5, 7, 6, 8, 9, 2, 3, 4]\n",
    "slide_array(nums, 3)"
   ]
  },
  {
   "cell_type": "code",
   "execution_count": 18,
   "metadata": {},
   "outputs": [
    {
     "data": {
      "text/plain": [
       "[5, 7, 6]"
      ]
     },
     "execution_count": 18,
     "metadata": {},
     "output_type": "execute_result"
    }
   ],
   "source": [
    "nums[:3]"
   ]
  },
  {
   "cell_type": "code",
   "execution_count": 23,
   "metadata": {},
   "outputs": [
    {
     "name": "stdout",
     "output_type": "stream",
     "text": [
      "3\n",
      "0\n",
      "5\n",
      "4\n",
      "1\n",
      "7\n",
      "5\n",
      "2\n",
      "6\n",
      "6\n",
      "3\n",
      "-8\n",
      "7\n",
      "4\n",
      "9\n"
     ]
    }
   ],
   "source": [
    "for i in range(3, 8):\n",
    "    print(i)\n",
    "    print(i - 3)\n",
    "    print(nums[i - 3])"
   ]
  },
  {
   "cell_type": "code",
   "execution_count": 39,
   "metadata": {},
   "outputs": [
    {
     "name": "stdout",
     "output_type": "stream",
     "text": [
      "[50, 17, 11]\n",
      "[17, 11, 27]\n",
      "[11, 27, 25]\n",
      "[27, 25, 24]\n",
      "[25, 24, 18]\n",
      "[24, 18, 16]\n"
     ]
    }
   ],
   "source": [
    "w_k = 3\n",
    "\n",
    "n = len(trom)\n",
    "start = trom[:w_k]\n",
    "\n",
    "for i in range(n):  # traverse from \n",
    "    print(trom[i:i+w_k])\n",
    "    if w_k + i == n: # break when reaching the end\n",
    "        break"
   ]
  },
  {
   "cell_type": "markdown",
   "metadata": {},
   "source": [
    "#### Smallest Subarray with Given sum\n",
    "\n",
    "prob_statement: Given array of positive integers and target sum, find the length of smallest subarray with sum greater than or equal to target sum."
   ]
  },
  {
   "cell_type": "code",
   "execution_count": 12,
   "metadata": {},
   "outputs": [],
   "source": [
    "def smallest_sa_sum(nums, tgt):\n",
    "    win_start = 0  # Initialize start and sum variables\n",
    "    win_sum = 0 \n",
    "    min_len = float('inf')  # initialize min length as infinite\n",
    "\n",
    "    for win_end in range(len(nums)):\n",
    "        win_sum += nums[win_end]  # start adding to sum from incremental elements\n",
    "\n",
    "        while win_sum >= tgt:  # whenever the win_sum is eq/abv tgt\n",
    "            min_len = min(min_len, win_end - win_start + 1)   \n",
    "            # get the min of min_len and current sub_array length\n",
    "            win_sum -= nums[win_start] # subtract the elem at win_start\n",
    "            win_start += 1  # increment win_start\n",
    "    # check min_len is not infite, and return it else return 0 \n",
    "    return min_len if min_len != float(\"inf\") else 0"
   ]
  },
  {
   "cell_type": "code",
   "execution_count": 21,
   "metadata": {},
   "outputs": [],
   "source": [
    "def smallest_sa_sum_list(nums, tgt):\n",
    "    win_start = 0  # Initialize start and sum variables\n",
    "    win_sum = 0 \n",
    "    min_len = float('inf')  # initialize min length as infinite\n",
    "\n",
    "    for win_end in range(len(nums)):\n",
    "        win_sum += nums[win_end]  # start adding to sum from incremental elements\n",
    "\n",
    "        while win_sum >= tgt:  # whenever the win_sum is eq/abv tgt\n",
    "            min_len = min(min_len, win_end - win_start + 1)   \n",
    "            print(nums[win_start:win_end+1])  # check the subarray used\n",
    "            # get the min of min_len and current sub_array length\n",
    "            win_sum -= nums[win_start] # subtract the elem at win_start\n",
    "            win_start += 1  # increment win_start\n",
    "    # check min_len is not infite, and return it else return 0 \n",
    "    return min_len if min_len != float(\"inf\") else 0"
   ]
  },
  {
   "cell_type": "code",
   "execution_count": 17,
   "metadata": {},
   "outputs": [
    {
     "data": {
      "text/plain": [
       "3"
      ]
     },
     "execution_count": 17,
     "metadata": {},
     "output_type": "execute_result"
    }
   ],
   "source": [
    "smallest_sa_sum(nums, 23)"
   ]
  },
  {
   "cell_type": "code",
   "execution_count": 22,
   "metadata": {},
   "outputs": [
    {
     "name": "stdout",
     "output_type": "stream",
     "text": [
      "[5, 7, 6, 8]\n",
      "[7, 6, 8, 9]\n",
      "[6, 8, 9]\n",
      "[8, 9, 2, 3, 4]\n"
     ]
    },
    {
     "data": {
      "text/plain": [
       "3"
      ]
     },
     "execution_count": 22,
     "metadata": {},
     "output_type": "execute_result"
    }
   ],
   "source": [
    "smallest_sa_sum_list(nums, 23)"
   ]
  },
  {
   "cell_type": "markdown",
   "metadata": {},
   "source": [
    "#### Longest Substring without Repeating chars\n",
    "\n",
    "Given a string, find the length of the longest substring without repeating characters."
   ]
  },
  {
   "cell_type": "code",
   "execution_count": null,
   "metadata": {},
   "outputs": [],
   "source": [
    "def longest_substring_without_repeating(s):\n",
    "    char_index_map = {}  # initialize the charmap\n",
    "    max_length = 0  # initialize max_len and win start\n",
    "    window_start = 0\n",
    "\n",
    "    for window_end in range(len(s)):\n",
    "        # at each win_end check if char in char_map, and its index is greater than win start\n",
    "        if s[window_end] in char_index_map and char_index_map[s[window_end]] >= window_start:\n",
    "            window_start = char_index_map[s[window_end]] + 1\n",
    "\n",
    "        char_index_map[s[window_end]] = window_end\n",
    "        max_length = max(max_length, window_end - window_start + 1)\n",
    "\n",
    "    return max_length\n"
   ]
  },
  {
   "cell_type": "code",
   "execution_count": 47,
   "metadata": {},
   "outputs": [
    {
     "name": "stdout",
     "output_type": "stream",
     "text": [
      "25 50\n"
     ]
    }
   ],
   "source": [
    "# hashing tech\n",
    "new_dict = {}\n",
    "for i, x in enumerate(trom):\n",
    "    new_dict[x] = i\n",
    "for x in trom:\n",
    "    temp = x - 25\n",
    "    if temp in new_dict:\n",
    "        print(trom[new_dict[temp]], x)"
   ]
  },
  {
   "cell_type": "code",
   "execution_count": 47,
   "metadata": {},
   "outputs": [
    {
     "name": "stdout",
     "output_type": "stream",
     "text": [
      "{24: 0, 19: 1, 14: 2, 26: 3, 15: 4, 42: 5}\n",
      "{0: 42, 1: 15, 2: 26, 3: 14, 4: 19, 5: 24}\n",
      "{24: 28, 19: 33, 14: 38, 26: 26, 15: 37, 42: 10}\n",
      "{24: [0, 5, 10, -2, 9, -18], 19: [0, 5, -7, 4, -23], 14: [0, -12, -1, -28], 26: [0, 11, -16], 15: [0, -27], 42: [0]}\n"
     ]
    }
   ],
   "source": [
    "tlen = len(tlist)\n",
    "\n",
    "rev_d = {}  # store the reverse of the elements\n",
    "fwr_d = {x:i for i, x in enumerate(tlist)}\n",
    "print(fwr_d)\n",
    "\n",
    "for i, e in enumerate(tlist):\n",
    "    rev_d[i] = tlist[tlen - i - 1]\n",
    "\n",
    "print(rev_d)\n",
    "\n",
    "# Storing the compliments of the element with respect to curr \n",
    "com_s = {}\n",
    "reqtol = 52\n",
    "comtol = {}\n",
    "\n",
    "for c in tlist:\n",
    "    com_s[c] = reqtol - c \n",
    "\n",
    "for i, t in enumerate(tlist):\n",
    "    comtol[t] = [(t - x) for x in tlist[i:]]\n",
    "\n",
    "print(com_s)\n",
    "print(comtol)"
   ]
  },
  {
   "cell_type": "code",
   "execution_count": 18,
   "metadata": {},
   "outputs": [
    {
     "name": "stdout",
     "output_type": "stream",
     "text": [
      "46 -f remaining elem to the right of 46: [26, 12, 22, 48, 23]\n",
      "remaining elem to the left of 46: [46]\n",
      "All elements apart from current printed reverse: [23, 48, 22, 12, 26]\n",
      "All elements apart from current printed straight: [26, 12, 22, 48]\n",
      "26 -f remaining elem to the right of 26: [12, 22, 48, 23]\n",
      "remaining elem to the left of 26: [46, 26]\n",
      "All elements apart from current printed reverse: [23, 48, 22, 12, 46]\n",
      "All elements apart from current printed straight: [46, 12, 22, 48]\n",
      "12 -f remaining elem to the right of 12: [22, 48, 23]\n",
      "remaining elem to the left of 12: [46, 26, 12]\n",
      "All elements apart from current printed reverse: [23, 48, 22, 26, 46]\n",
      "All elements apart from current printed straight: [46, 26, 22, 48]\n",
      "22 -f remaining elem to the right of 22: [48, 23]\n",
      "remaining elem to the left of 22: [46, 26, 12, 22]\n",
      "All elements apart from current printed reverse: [23, 48, 12, 26, 46]\n",
      "All elements apart from current printed straight: [46, 26, 12, 48]\n",
      "48 -f remaining elem to the right of 48: [23]\n",
      "remaining elem to the left of 48: [46, 26, 12, 22, 48]\n",
      "All elements apart from current printed reverse: [23, 22, 12, 26, 46]\n",
      "All elements apart from current printed straight: [46, 26, 12, 22]\n",
      "23 -f remaining elem to the right of 23: []\n",
      "remaining elem to the left of 23: [46, 26, 12, 22, 48, 23]\n",
      "All elements apart from current printed reverse: [48, 22, 12, 26, 46]\n",
      "All elements apart from current printed straight: [46, 26, 12, 22, 48]\n"
     ]
    }
   ],
   "source": [
    "# without two pointers also, we can extract the elements to \n",
    "# to the right or left of the current\n",
    "\n",
    "for ind, f in enumerate(tlist):\n",
    "    print(f, end=' -f ')\n",
    "    rem_e = []\n",
    "    # remaining elems to right, apart from current\n",
    "    print(f\"remaining elem to the right of {f}: {tlist[ind + 1:]}\")\n",
    "    print(f\"remaining elem to the left of {f}: {tlist[:ind + 1]}\")\n",
    "    for x in range(tlen - 1, -1,-1):\n",
    "        if x != ind:\n",
    "            rem_e.append(tlist[x])\n",
    "    # all elements apart from the current\n",
    "    print(f\"All elements apart from current printed reverse: {rem_e}\")\n",
    "    rem_l = []\n",
    "    for x in range(tlen - 1):\n",
    "        if x != ind:\n",
    "            rem_l.append(tlist[x])\n",
    "    print(f\"All elements apart from current printed straight: {rem_l}\")"
   ]
  },
  {
   "cell_type": "markdown",
   "metadata": {},
   "source": [
    "#### Practice Zone"
   ]
  },
  {
   "cell_type": "code",
   "execution_count": 16,
   "metadata": {},
   "outputs": [],
   "source": [
    "# logging practice\n",
    "\n",
    "# Do forward movement on the list\n",
    "\n",
    "# Do the backward movement on the list\n",
    "\n",
    "# Use while loop to traverse the list\n",
    "\n",
    "# Make both the direction elements to be printed, one after the other using single pointer\n",
    "\n",
    "# Two Pointer option, used especially when a second set needs to be extracted.\n",
    "# Two pointers, where the 2nd pointer collects the rest of elements\n",
    "\n",
    "# second pointer has to move the rest of the list with for loop\n",
    "    # second pointer moves from the left of the list\n",
    "    # second pointer moves from the right of the list\n",
    "# second pointer has to move the rest of the list using while loop \n",
    "\n",
    "# print elements to the right and left of the current, excluding it\n",
    "\n",
    "# print elements to the right and left of the current, including it\n",
    "### Above completed..\n",
    "# Use the dictionary to store the elements in reverse and forward\n",
    "\n",
    "# Use the dictionary to store the complements \n",
    "\n",
    "# Implement the sliding window on list, and extract moving lists with pop and append\n",
    "\n",
    "# implement sliding window using the indices\n"
   ]
  },
  {
   "cell_type": "code",
   "execution_count": 2,
   "metadata": {},
   "outputs": [
    {
     "name": "stdout",
     "output_type": "stream",
     "text": [
      "[35, 65, 23, 88, 55, 54, 45, 60, 78, 46]\n"
     ]
    }
   ],
   "source": [
    "import random\n",
    "\n",
    "random_list = [random.randint(20, 100) for _ in range(10)]\n",
    "print(random_list)"
   ]
  },
  {
   "cell_type": "code",
   "execution_count": 23,
   "metadata": {},
   "outputs": [
    {
     "name": "stdout",
     "output_type": "stream",
     "text": [
      "Slide at 0 [35, 65, 23] Slide at 1 [65, 23, 88] Slide at 2 [23, 88, 55] Slide at 3 [88, 55, 54] Slide at 4 [55, 54, 45] Slide at 5 [54, 45, 60] Slide at 6 [45, 60, 78] Slide at 7 [60, 78, 46] "
     ]
    }
   ],
   "source": [
    "lslen = len(random_list)\n",
    "window = 3\n",
    "\n",
    "for i in range(lslen - window + 1):\n",
    "    print(f\"Slide at {i}\", end=' ')\n",
    "    win_end = i + window\n",
    "    print(random_list[i:win_end], end=' ')"
   ]
  },
  {
   "cell_type": "code",
   "execution_count": 26,
   "metadata": {},
   "outputs": [
    {
     "name": "stdout",
     "output_type": "stream",
     "text": [
      "Slide at 0 [35, 65, 23]\n",
      "Slide at 1 [65, 23, 88]\n",
      "Slide at 2 [23, 88, 55]\n",
      "Slide at 3 [88, 55, 54]\n",
      "Slide at 4 [55, 54, 45]\n",
      "Slide at 5 [54, 45, 60]\n",
      "Slide at 6 [45, 60, 78]\n",
      "Slide at 7 [60, 78, 46]\n"
     ]
    }
   ],
   "source": [
    "i = 0\n",
    "while i < lslen - window + 1:\n",
    "    print(f\"Slide at {i}\", end=' ')\n",
    "    win_end = i + window\n",
    "    print(random_list[i: win_end])\n",
    "    i += 1"
   ]
  },
  {
   "cell_type": "code",
   "execution_count": null,
   "metadata": {},
   "outputs": [],
   "source": [
    "start_win = random_list[:window]\n",
    "\n",
    "for i in range(lslen - window):\n",
    "    print(f'before process: {start_win}')\n",
    "    start_win.pop(0)\n",
    "    start_win.append(random_list[i + window])\n",
    "    print(start_win)"
   ]
  },
  {
   "cell_type": "code",
   "execution_count": null,
   "metadata": {},
   "outputs": [],
   "source": [
    "for i in range(lslen):\n",
    "    print(random_list[i:i+window])"
   ]
  }
 ],
 "metadata": {
  "kernelspec": {
   "display_name": "Python 3",
   "language": "python",
   "name": "python3"
  },
  "language_info": {
   "codemirror_mode": {
    "name": "ipython",
    "version": 3
   },
   "file_extension": ".py",
   "mimetype": "text/x-python",
   "name": "python",
   "nbconvert_exporter": "python",
   "pygments_lexer": "ipython3",
   "version": "3.11.4"
  }
 },
 "nbformat": 4,
 "nbformat_minor": 2
}
