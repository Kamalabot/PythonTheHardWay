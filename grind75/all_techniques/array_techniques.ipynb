{
 "cells": [
  {
   "cell_type": "code",
   "execution_count": null,
   "metadata": {},
   "outputs": [],
   "source": [
    "techs = {\n",
    "  \"Array Techniques\": [\n",
    "    {\n",
    "      \"Technique\": \"Brute Force\",\n",
    "      \"Example\": \"Finding maximum subarray sum\",\n",
    "      \"Code\": \"```python\\n# Brute Force\\n```\"\n",
    "    },\n",
    "    {\n",
    "      \"Technique\": \"Two Pointers\",\n",
    "      \"Example\": \"Two Sum\",\n",
    "      \"Code\": \"```python\\n# Two Pointers\\n```\"\n",
    "    },\n",
    "    {\n",
    "      \"Technique\": \"Sliding Window\",\n",
    "      \"Example\": \"Maximum Sum Subarray of Fixed Size K\",\n",
    "      \"Code\": \"```python\\n# Sliding Window\\n```\"\n",
    "    },\n",
    "    {\n",
    "      \"Technique\": \"Sorting\",\n",
    "      \"Example\": \"Intersection of Two Arrays II\",\n",
    "      \"Code\": \"```python\\n# Sorting\\n```\"\n",
    "    },\n",
    "    {\n",
    "      \"Technique\": \"Greedy\",\n",
    "      \"Example\": \"Jump Game\",\n",
    "      \"Code\": \"```python\\n# Greedy\\n```\"\n",
    "    },\n",
    "    {\n",
    "      \"Technique\": \"Hashing\",\n",
    "      \"Example\": \"Two Sum\",\n",
    "      \"Code\": \"```python\\n# Hashing\\n```\"\n",
    "    },\n",
    "    {\n",
    "      \"Technique\": \"Dynamic Programming\",\n",
    "      \"Example\": \"Maximum Subarray Sum\",\n",
    "      \"Code\": \"```python\\n# Dynamic Programming\\n```\"\n",
    "    }\n",
    "  ]\n",
    "}"
   ]
  },
  {
   "cell_type": "code",
   "execution_count": null,
   "metadata": {},
   "outputs": [],
   "source": [
    "# Each of the data structures have \n",
    "# their own time_complexities, need to check.\n",
    "time_complexity = {\n",
    "    \"access\": \"O(1)\",\n",
    "    \"search\": \"O(n)\",\n",
    "    \"sorted_search\": \"O(log(n))\",\n",
    "    \"insert\": \"O(n)\",\n",
    "    \"append\": \"O(1)\",\n",
    "    \"remove\": \"O(n)\",\n",
    "    \"remove_end\": \"O(1)\",\n",
    "    \"reversing\": \"O(n)\"\n",
    "}\n",
    "# https://stackoverflow.com/questions/45330006/what-is-the-time-complexity-and-space-complexity-of-array-1"
   ]
  },
  {
   "cell_type": "code",
   "execution_count": null,
   "metadata": {},
   "outputs": [],
   "source": [
    "# Mastering Sliding Window technique \n",
    "# Useful when solving problems that involve subarray and subsequence, by maintaining window"
   ]
  },
  {
   "cell_type": "markdown",
   "metadata": {},
   "source": [
    "#### Maximum Sum Subarray of Size K\n",
    "\n",
    "Problem: Given an Array of integers and integer K, find the maximum sum of the subarray of size k\n",
    "\n",
    "Subarray : A range of contiguous values within array\n",
    "\n",
    "Subsequence : A sequence derived from given sequence by deleting some / no elements, \"without\" changing the order of elements. "
   ]
  },
  {
   "cell_type": "code",
   "execution_count": null,
   "metadata": {},
   "outputs": [],
   "source": [
    "nums = [5, 7, 6, -8, 9, -2, 3, 4]\n",
    "nums[:4]"
   ]
  },
  {
   "cell_type": "code",
   "execution_count": null,
   "metadata": {},
   "outputs": [],
   "source": [
    "for i in range(4, len(nums)):\n",
    "    print(i)"
   ]
  },
  {
   "cell_type": "code",
   "execution_count": null,
   "metadata": {},
   "outputs": [],
   "source": [
    "nums[0:8]"
   ]
  },
  {
   "cell_type": "code",
   "execution_count": null,
   "metadata": {},
   "outputs": [],
   "source": [
    "len(nums)"
   ]
  },
  {
   "cell_type": "code",
   "execution_count": null,
   "metadata": {},
   "outputs": [],
   "source": [
    "sum(nums)"
   ]
  },
  {
   "cell_type": "code",
   "execution_count": null,
   "metadata": {},
   "outputs": [],
   "source": [
    "def reverse(array):\n",
    "    \"\"\"Reversing Array with while loop\"\"\"\n",
    "    start, end = 0, len(array)-1  # create start, end vars\n",
    "    while start < end: # while start is less than end\n",
    "        array[start], array[end] = array[end], array[start]\n",
    "        start += 1  # move start to left by a step\n",
    "        end -= 1  # move end to right by a step"
   ]
  },
  {
   "cell_type": "code",
   "execution_count": null,
   "metadata": {},
   "outputs": [],
   "source": [
    "# Brute Force Tech\n",
    "def max_sum_sa_brute(nums):\n",
    "    n = len(nums)\n",
    "    max_sum = float('-inf')\n",
    "    start_idx, end_idx = 0, 0  # keeps track of start & end\n",
    "\n",
    "    for i in range(n):  # start at index 0\n",
    "        current_sum = 0  # initialize sum_tracker\n",
    "        # print(nums[i:n])\n",
    "        for ind, ele in enumerate(nums[i:n]):\n",
    "            # enumerate from 0 to length of list\n",
    "            current_sum += ele  # add elem to curr_sum\n",
    "            # check if the current sum is bigger than max_sum\n",
    "            if current_sum > max_sum: \n",
    "                # start & end are updated only if new sum is bigger \n",
    "                max_sum = current_sum\n",
    "                start_idx, end_idx = i, ind+i  # i remains stationary\n",
    "        # have to complete the entire loop, as the max sum can be anywhere\n",
    "    return start_idx, end_idx, max_sum"
   ]
  },
  {
   "cell_type": "code",
   "execution_count": null,
   "metadata": {},
   "outputs": [],
   "source": [
    "max_sum_sa_brute(nums)"
   ]
  },
  {
   "cell_type": "code",
   "execution_count": null,
   "metadata": {},
   "outputs": [],
   "source": [
    "nl = len(nums) - 5\n",
    "for i in range(nl):\n",
    "    print(len(nums[i:nl]))\n",
    "    print(nums[i:nl])\n",
    "    for ind, ele in enumerate(nums[i:nl]):\n",
    "        print(i, ind)"
   ]
  },
  {
   "cell_type": "code",
   "execution_count": null,
   "metadata": {},
   "outputs": [],
   "source": [
    "nums = [-2, 1, -3, 4, -1, 2, 1, -5, 4]\n",
    "max_sum_sa_brute(nums)"
   ]
  },
  {
   "cell_type": "code",
   "execution_count": null,
   "metadata": {},
   "outputs": [],
   "source": [
    "import random \n",
    "random.seed(42)\n",
    "trom = [random.randint(10, 50) for _ in range(8)]\n",
    "trom "
   ]
  },
  {
   "cell_type": "code",
   "execution_count": null,
   "metadata": {},
   "outputs": [],
   "source": [
    "# Sliding Window Tech\n",
    "def max_sum_subarray(nums, k):\n",
    "    win_sum = sum(nums[:k])  # get sum of the first k elements\n",
    "    max_sum = win_sum  # make that sum as max sum \n",
    "\n",
    "    for i in range(k, len(nums)):  # as it is subarray, it has to be contiguous\n",
    "        win_sum = win_sum - nums[i - k] + nums[i]\n",
    "        # remove the values outside the window from win_sum and add new values\n",
    "        max_sum = max(max_sum, win_sum)\n",
    "\n",
    "    return max_sum\n",
    "\n",
    "max_sum_subarray(nums, 3)"
   ]
  },
  {
   "cell_type": "code",
   "execution_count": null,
   "metadata": {},
   "outputs": [],
   "source": [
    "# implementing the above without summing\n",
    "# picking out first from left, and adding new one on right\n",
    "w_k = 3\n",
    "print(nums[:w_k])\n",
    "for i in range(3, 8):\n",
    "    print(nums[i:i+w_k], nums[i - w_k], nums[i])"
   ]
  },
  {
   "cell_type": "code",
   "execution_count": null,
   "metadata": {},
   "outputs": [],
   "source": [
    "def slide_array(nums, k):\n",
    "    slides = []  # store  the slides\n",
    "    # start = nums[:k]  # get the first slide\n",
    "    # slides.append(start)  # append it to the slides\n",
    "\n",
    "    for i in range(len(nums)):\n",
    "        subarr = nums[i:i+k]\n",
    "        if len(subarr) == k:  # include only the subarray of length k\n",
    "            slides.append(subarr)\n",
    "    return slides\n",
    "\n",
    "nums = [5, 7, 6, 8, 9, 2, 3, 4]\n",
    "slide_array(nums, 3)"
   ]
  },
  {
   "cell_type": "code",
   "execution_count": null,
   "metadata": {},
   "outputs": [],
   "source": [
    "nums[:3]"
   ]
  },
  {
   "cell_type": "code",
   "execution_count": null,
   "metadata": {},
   "outputs": [],
   "source": [
    "for i in range(3, 8):\n",
    "    print(i)\n",
    "    print(i - 3)\n",
    "    print(nums[i - 3])"
   ]
  },
  {
   "cell_type": "code",
   "execution_count": null,
   "metadata": {},
   "outputs": [],
   "source": [
    "w_k = 3\n",
    "\n",
    "n = len(trom)\n",
    "start = trom[:w_k]\n",
    "\n",
    "for i in range(n):  # traverse from \n",
    "    print(trom[i:i+w_k])\n",
    "    if w_k + i == n: # break when reaching the end\n",
    "        break"
   ]
  },
  {
   "cell_type": "markdown",
   "metadata": {},
   "source": [
    "#### Smallest Subarray with Given sum\n",
    "\n",
    "prob_statement: Given array of positive integers and target sum, find the length of smallest subarray with sum greater than or equal to target sum."
   ]
  },
  {
   "cell_type": "code",
   "execution_count": null,
   "metadata": {},
   "outputs": [],
   "source": [
    "def smallest_sa_sum(nums, tgt):\n",
    "    win_start = 0  # Initialize start and sum variables\n",
    "    win_sum = 0 \n",
    "    min_len = float('inf')  # initialize min length as infinite\n",
    "\n",
    "    for win_end in range(len(nums)):\n",
    "        win_sum += nums[win_end]  # start adding to sum from incremental elements\n",
    "\n",
    "        while win_sum >= tgt:  # whenever the win_sum is eq/abv tgt\n",
    "            min_len = min(min_len, win_end - win_start + 1)   \n",
    "            # get the min of min_len and current sub_array length\n",
    "            win_sum -= nums[win_start] # subtract the elem at win_start\n",
    "            win_start += 1  # increment win_start\n",
    "    # check min_len is not infite, and return it else return 0 \n",
    "    return min_len if min_len != float(\"inf\") else 0"
   ]
  },
  {
   "cell_type": "code",
   "execution_count": null,
   "metadata": {},
   "outputs": [],
   "source": [
    "def smallest_sa_sum_list(nums, tgt):\n",
    "    win_start = 0  # Initialize start and sum variables\n",
    "    win_sum = 0 \n",
    "    min_len = float('inf')  # initialize min length as infinite\n",
    "\n",
    "    for win_end in range(len(nums)):\n",
    "        win_sum += nums[win_end]  # start adding to sum from incremental elements\n",
    "\n",
    "        while win_sum >= tgt:  # whenever the win_sum is eq/abv tgt\n",
    "            min_len = min(min_len, win_end - win_start + 1)   \n",
    "            print(nums[win_start:win_end+1])  # check the subarray used\n",
    "            # get the min of min_len and current sub_array length\n",
    "            win_sum -= nums[win_start] # subtract the elem at win_start\n",
    "            win_start += 1  # increment win_start\n",
    "    # check min_len is not infite, and return it else return 0 \n",
    "    return min_len if min_len != float(\"inf\") else 0"
   ]
  },
  {
   "cell_type": "code",
   "execution_count": null,
   "metadata": {},
   "outputs": [],
   "source": [
    "smallest_sa_sum(nums, 23)"
   ]
  },
  {
   "cell_type": "code",
   "execution_count": null,
   "metadata": {},
   "outputs": [],
   "source": [
    "smallest_sa_sum_list(nums, 23)"
   ]
  },
  {
   "cell_type": "markdown",
   "metadata": {},
   "source": [
    "#### Longest Substring without Repeating chars\n",
    "\n",
    "Given a string, find the length of the longest substring without repeating characters."
   ]
  },
  {
   "cell_type": "code",
   "execution_count": null,
   "metadata": {},
   "outputs": [],
   "source": [
    "def longest_substring_without_repeating(s):\n",
    "    char_index_map = {}  # initialize the charmap\n",
    "    max_length = 0  # initialize max_len and win start\n",
    "    window_start = 0\n",
    "\n",
    "    for window_end in range(len(s)):\n",
    "        # at each win_end check if char in char_map, and its index is greater than win start\n",
    "        if s[window_end] in char_index_map and char_index_map[s[window_end]] >= window_start:\n",
    "            window_start = char_index_map[s[window_end]] + 1\n",
    "\n",
    "        char_index_map[s[window_end]] = window_end\n",
    "        max_length = max(max_length, window_end - window_start + 1)\n",
    "\n",
    "    return max_length\n"
   ]
  },
  {
   "cell_type": "code",
   "execution_count": null,
   "metadata": {},
   "outputs": [],
   "source": [
    "# hashing tech\n",
    "new_dict = {}\n",
    "for i, x in enumerate(trom):\n",
    "    new_dict[x] = i\n",
    "for x in trom:\n",
    "    temp = x - 25\n",
    "    if temp in new_dict:\n",
    "        print(trom[new_dict[temp]], x)"
   ]
  },
  {
   "cell_type": "code",
   "execution_count": null,
   "metadata": {},
   "outputs": [],
   "source": [
    "# storing memo of elements & their indices\n",
    "\n",
    "tlen = len(tlist)\n",
    "\n",
    "rev_d = {}  # store the reverse of the elements\n",
    "fwr_d = {x:i for i, x in enumerate(tlist)}\n",
    "print(fwr_d)\n",
    "\n",
    "for i, e in enumerate(tlist):\n",
    "    rev_d[i] = tlist[tlen - i - 1]\n",
    "\n",
    "print(rev_d)\n",
    "\n",
    "# Storing the compliments of the element with respect to curr \n",
    "com_s = {}\n",
    "reqtol = 52\n",
    "comtol = {}\n",
    "\n",
    "for c in tlist:\n",
    "    com_s[c] = reqtol - c \n",
    "\n",
    "for i, t in enumerate(tlist):\n",
    "    comtol[t] = [(t - x) for x in tlist[i:]]\n",
    "\n",
    "print(com_s)\n",
    "print(comtol)"
   ]
  },
  {
   "cell_type": "code",
   "execution_count": null,
   "metadata": {},
   "outputs": [],
   "source": [
    "# without two pointers also, we can extract the elements to \n",
    "# to the right or left of the current\n",
    "import random\n",
    "\n",
    "for ind, f in enumerate(tlist):\n",
    "    print(f, end=' -f ')\n",
    "    rem_e = []\n",
    "    # remaining elems to right, apart from current\n",
    "    print(f\"remaining elem to the right of {f}: {tlist[ind + 1:]}\")\n",
    "    print(f\"remaining elem to the left of {f}: {tlist[:ind + 1]}\")\n",
    "    for x in range(tlen - 1, -1,-1):\n",
    "        if x != ind:\n",
    "            rem_e.append(tlist[x])\n",
    "    # all elements apart from the current\n",
    "    print(f\"All elements apart from current printed reverse: {rem_e}\")\n",
    "    rem_l = []\n",
    "    for x in range(tlen - 1):\n",
    "        if x != ind:\n",
    "            rem_l.append(tlist[x])\n",
    "    print(f\"All elements apart from current printed straight: {rem_l}\")"
   ]
  },
  {
   "cell_type": "code",
   "execution_count": null,
   "metadata": {},
   "outputs": [],
   "source": [
    "# 2nd pointer is moving reverse\n",
    "tmon = [113, 137, 53, 95, 142]\n",
    "tl = len(tmon)\n",
    "for ind, val in enumerate(tmon):\n",
    "    ulog.warning(f'Pt_1 @: {ind} with val: {val}')\n",
    "    for i in range(tl-1, ind, -1):\n",
    "        ulog.warning(f\"pt_2 @: {i}: value: {tmon[i]}\")"
   ]
  },
  {
   "cell_type": "code",
   "execution_count": null,
   "metadata": {},
   "outputs": [],
   "source": [
    "# shifting to next pair\n",
    "import random\n",
    "random.seed(56)\n",
    "randlist = [random.randint(15, 25) for _ in range(8)]\n",
    "print(randlist)\n",
    "\n",
    "left, right = 0, 1  # initialize a pair\n",
    "while right < len(randlist):\n",
    "    print(f\"indices {left} and {right}\")\n",
    "    print(randlist[left], randlist[right])\n",
    "    # shift to the next adjacent pair\n",
    "    left, right = right, right + 1\n",
    "\n",
    "\n",
    "# the same can be extended to two pointer where \n",
    "# one moves first for a span, and pulls the other\n",
    "# to it asynchronously\n",
    "left, right = 0, 1\n",
    "span = 0\n",
    "while right < len(randlist):\n",
    "    print(f\"indices left: {left} and right: {right}\")\n",
    "    if span >= 2:\n",
    "        left, right = right, right\n",
    "        span = 0\n",
    "    right += 1\n",
    "    span += 1"
   ]
  },
  {
   "cell_type": "code",
   "execution_count": null,
   "metadata": {},
   "outputs": [],
   "source": [
    "nms = [5, 6, 2, 7, 9, 52, 86]\n",
    "for ind, i in enumerate(nms):\n",
    "    if i > 50:\n",
    "        print(i)\n",
    "        break\n",
    "    if i == 7:\n",
    "        continue  # loop goes to idx 3 at 9\n",
    "    print(f\"value: {i}\")\n",
    "    print(f'index {ind}')"
   ]
  },
  {
   "cell_type": "code",
   "execution_count": null,
   "metadata": {},
   "outputs": [],
   "source": [
    "nums = [5, 7, 6, 2, 7, 8, 5, 1]\n",
    "for i in range(len(nums)):\n",
    "    # print(i)\n",
    "    counter = sum(1 for elem in nums if elem == nums[i])\n",
    "    print(counter)\n"
   ]
  },
  {
   "cell_type": "markdown",
   "metadata": {},
   "source": [
    "Binary Search Techniques"
   ]
  },
  {
   "cell_type": "code",
   "execution_count": 1,
   "metadata": {},
   "outputs": [
    {
     "data": {
      "text/plain": [
       "[119, 127, 123, 107, 137, 149, 197, 151, 161, 165]"
      ]
     },
     "execution_count": 1,
     "metadata": {},
     "output_type": "execute_result"
    }
   ],
   "source": [
    "# find index of tgt number in a array\n",
    "import random\n",
    "random.seed(526)\n",
    "randList = [random.randint(100, 205) for _ in range(10)]\n",
    "tgt1 = 106  # return -1\n",
    "tgt2 = 107 # return 3\n",
    "\n",
    "randList"
   ]
  },
  {
   "cell_type": "code",
   "execution_count": 3,
   "metadata": {},
   "outputs": [
    {
     "data": {
      "text/plain": [
       "4"
      ]
     },
     "execution_count": 3,
     "metadata": {},
     "output_type": "execute_result"
    }
   ],
   "source": [
    "9 // 2"
   ]
  },
  {
   "cell_type": "code",
   "execution_count": null,
   "metadata": {},
   "outputs": [],
   "source": [
    "# Using 2 pointers to create Binary Search.\n",
    "# practice mentioning the logic that we have verbally.\n",
    "left, right = 0, len(randList) - 1\n",
    "\n",
    "while left <= right:\n",
    "    mid = left + (right - left) // 2\n",
    "    if nums[mid] == tgt1:\n",
    "        print(mid)\n",
    "    \n",
    "    if nums[mid] >= nums[left]:  # mid is bigger \n",
    "        if nums[left] <= tgt1 < nums[mid]:\n",
    "            right = mid - 1\n",
    "        else:\n",
    "            left = mid + 1\n",
    "    \n",
    "    else:\n",
    "        if nums[mid] < tgt1 < nums[right]:\n",
    "            left = mid + 1\n",
    "        else:\n",
    "            right = mid - 1\n"
   ]
  },
  {
   "cell_type": "markdown",
   "metadata": {},
   "source": [
    "#### Practice Zone"
   ]
  },
  {
   "cell_type": "code",
   "execution_count": null,
   "metadata": {},
   "outputs": [],
   "source": [
    "# logging practice\n",
    "\n",
    "# Do fwd/bwd movement with for on the list\n",
    "\n",
    "# Use while loop to fwd/bwd the list\n",
    "\n",
    "# Use recursive loop to fwd/bwd the list [not in assgn]\n",
    "\n",
    "# Make both the direction elements to be printed, one after the other using single pointer\n",
    "\n",
    "# Two Pointer option, used especially when a second set needs to be extracted.\n",
    "# Two pointers, where the 2nd pointer collects the rest of elements\n",
    "\n",
    "# second pointer has to move the rest of the list with for loop\n",
    "    # second pointer moves from the left of the list\n",
    "    # second pointer moves from the right of the list\n",
    "# second pointer has to move the rest of the list using while loop \n",
    "\n",
    "# print elements to the right and left of the current, excluding it\n",
    "\n",
    "# print elements to the right and left of the current, including it\n",
    "### Above completed..\n",
    "# Use the dictionary to store the elements in reverse and forward\n",
    "\n",
    "# Use the dictionary to store the complements \n",
    "\n",
    "# Implement the sliding window on list, and extract moving lists with pop and append\n",
    "\n",
    "# implement sliding window using the indices\n",
    "\n",
    "# shifting to the next pair \n",
    "\n",
    "# making the right point to move ahead, and then pull the left\n",
    "# to a particular distance or to right's location \n",
    "\n",
    "# Practice to use continue and break\n",
    "\n",
    "# counter technique that enumerates over elems of the array and \n",
    "# checks if meets a condition, makes it 1. After all elems \n",
    "# enumerated it sum"
   ]
  }
 ],
 "metadata": {
  "kernelspec": {
   "display_name": "Python 3",
   "language": "python",
   "name": "python3"
  },
  "language_info": {
   "codemirror_mode": {
    "name": "ipython",
    "version": 3
   },
   "file_extension": ".py",
   "mimetype": "text/x-python",
   "name": "python",
   "nbconvert_exporter": "python",
   "pygments_lexer": "ipython3",
   "version": "3.11.4"
  }
 },
 "nbformat": 4,
 "nbformat_minor": 2
}
