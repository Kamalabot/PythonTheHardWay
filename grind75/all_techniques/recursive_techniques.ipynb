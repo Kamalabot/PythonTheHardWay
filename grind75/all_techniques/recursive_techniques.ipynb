{
 "cells": [
  {
   "cell_type": "markdown",
   "metadata": {},
   "source": [
    "#### Techniques implemented and to be practiced\n",
    "\n",
    "    - Recursively Walking a list elements forward and backward\n",
    "    \n",
    "    - Walk the list elements, every step divide the space by 2 \n",
    "    and get mid value : O(log(n)) complexity\n",
    "\n",
    "    - Walk the list of elements, every step divided the space by 2\n",
    "    and return the left side of the mid value : O(n * log(n)) \n",
    "\n",
    "    - Do the above, and have a pointer that reduces the list size\n",
    "\n",
    "    - Get the Fibonacci series of number n\n",
    "\n",
    "    - Get the sum of the given list recursively\n",
    "\n",
    "    - Get the factorial of given number recursively\n",
    "\n",
    "    - loop over the elements and then make calls recursively : O(n!)\n",
    "\n",
    "    - Get the combination... This is taking time to understand \n",
    "\n",
    "\n",
    "\n",
    "Will be using the below notes first\n",
    "\n",
    "https://realpython.com/python-thinking-recursively/\n",
    "\n",
    "https://realpython.com/python-recursion/\n"
   ]
  },
  {
   "cell_type": "code",
   "execution_count": 14,
   "metadata": {},
   "outputs": [],
   "source": [
    "from typing import List"
   ]
  },
  {
   "cell_type": "code",
   "execution_count": 15,
   "metadata": {},
   "outputs": [
    {
     "name": "stdout",
     "output_type": "stream",
     "text": [
      "5\n",
      "2\n",
      "1\n",
      "7\n",
      "9\n",
      "8\n"
     ]
    }
   ],
   "source": [
    "def walk_list(wl:List, n:int) -> None:\n",
    "    if n >= len(wl): # edge case\n",
    "        return\n",
    "    print(wl[n])\n",
    "    walk_list(wl, n+1)\n",
    "\n",
    "test = [5, 2, 1, 7, 9, 8]\n",
    "\n",
    "walk_list(test, 0)"
   ]
  },
  {
   "cell_type": "code",
   "execution_count": 17,
   "metadata": {},
   "outputs": [
    {
     "name": "stdout",
     "output_type": "stream",
     "text": [
      "7\n",
      "9\n",
      "8\n",
      "5\n",
      "2\n",
      "1\n"
     ]
    }
   ],
   "source": [
    "# dividing the walkers\n",
    "mid = len(test) // 2\n",
    "walk_list(test[mid:],0)\n",
    "walk_list(test[:mid],0)"
   ]
  },
  {
   "cell_type": "code",
   "execution_count": null,
   "metadata": {},
   "outputs": [],
   "source": [
    "def walk_traverse(wl:List):\n",
    "    tr = len(wl)\n",
    "    for i in range(tr):\n",
    "        print(f'Entering: {i}')\n",
    "        walk_list(wl[i:], 0)\n",
    "\n",
    "walk_traverse(test)"
   ]
  },
  {
   "cell_type": "code",
   "execution_count": 3,
   "metadata": {},
   "outputs": [
    {
     "data": {
      "text/plain": [
       "13"
      ]
     },
     "execution_count": 3,
     "metadata": {},
     "output_type": "execute_result"
    }
   ],
   "source": [
    "def fibo(n):\n",
    "    if n < 2:\n",
    "        # print(1)\n",
    "        return 1\n",
    "    # print(n)\n",
    "    return fibo(n-1) + fibo(n-2)\n",
    "\n",
    "fibo(6)\n",
    "\n",
    "# 1 1 2 3 5 8 13"
   ]
  },
  {
   "cell_type": "code",
   "execution_count": null,
   "metadata": {},
   "outputs": [],
   "source": [
    "# dividing the space with factorial\n",
    "def foo(n):\n",
    "    if n <= 1:\n",
    "        print('Reached below 1')\n",
    "        return\n",
    "    print(n)\n",
    "    foo(n / 2)\n",
    "\n",
    "foo(10)"
   ]
  },
  {
   "cell_type": "code",
   "execution_count": null,
   "metadata": {},
   "outputs": [],
   "source": [
    "# Doing the same above thing with while\n",
    "def whilefoo(n):\n",
    "    while n > 1:\n",
    "        print(n)\n",
    "        n /= 2 \n",
    "    print('super done...')\n",
    "\n",
    "whilefoo(10)"
   ]
  },
  {
   "cell_type": "code",
   "execution_count": 7,
   "metadata": {},
   "outputs": [
    {
     "name": "stdout",
     "output_type": "stream",
     "text": [
      "[5, 7, 3, 2, 1, 8, 7]\n",
      "[5, 7, 3]\n",
      "[5]\n",
      "[]\n"
     ]
    }
   ],
   "source": [
    "def bar(nlist):\n",
    "    print(nlist)\n",
    "    if len(nlist) < 1:\n",
    "        return\n",
    "    mid = len(nlist) // 2\n",
    "    bar(nlist[:mid])  # this step will be O(n) * O(log(n))\n",
    "\n",
    "bar([5, 7, 3, 2, 1, 8, 7])"
   ]
  },
  {
   "cell_type": "code",
   "execution_count": 16,
   "metadata": {},
   "outputs": [
    {
     "data": {
      "text/plain": [
       "[2, 1, 8, 7]"
      ]
     },
     "execution_count": 16,
     "metadata": {},
     "output_type": "execute_result"
    }
   ],
   "source": [
    "x = [5, 7, 3, 2, 1, 8, 7]\n",
    "x[3:]"
   ]
  },
  {
   "cell_type": "code",
   "execution_count": 23,
   "metadata": {},
   "outputs": [
    {
     "data": {
      "text/plain": [
       "[5, 7, 3, 2, 1, 8, 7]"
      ]
     },
     "execution_count": 23,
     "metadata": {},
     "output_type": "execute_result"
    }
   ],
   "source": [
    "x[:]"
   ]
  },
  {
   "cell_type": "code",
   "execution_count": null,
   "metadata": {},
   "outputs": [],
   "source": [
    "# there is a bug in the code... reaches recursion limit. \n",
    "def bar(nlist):\n",
    "    print(nlist)\n",
    "    if len(nlist) < 1:\n",
    "        return\n",
    "    mid = len(nlist) // 2\n",
    "    print('mid: ', mid)\n",
    "    bar(nlist[:mid])  # this step will be O(n) * O(log(n))\n",
    "    bar(nlist[mid:None])  # this step will be O(n) * O(log(n))\n",
    "\n",
    "bar([5, 7, 3, 2, 1, 8, 7])"
   ]
  },
  {
   "cell_type": "code",
   "execution_count": null,
   "metadata": {},
   "outputs": [],
   "source": [
    "tst = 'twistered'\n",
    "bar(tst)"
   ]
  },
  {
   "cell_type": "code",
   "execution_count": null,
   "metadata": {},
   "outputs": [],
   "source": [
    "def sum(wl):\n",
    "    \n",
    "    if len(wl) == 1:\n",
    "        return wl[0]\n",
    "    if wl is None:\n",
    "        return\n",
    "    print(wl[0]) \n",
    "    return 0 + sum(wl[1:])\n",
    "\n",
    "print(sum(test))"
   ]
  },
  {
   "cell_type": "code",
   "execution_count": 1,
   "metadata": {},
   "outputs": [
    {
     "name": "stdout",
     "output_type": "stream",
     "text": [
      "44\n"
     ]
    }
   ],
   "source": [
    "def actual_sum(tlist):\n",
    "    if tlist == []:\n",
    "        return 0\n",
    "    if tlist == [1]:\n",
    "        return 1\n",
    "    return tlist[0] + sum(tlist[1:])\n",
    "\n",
    "test = [5, 2, 1, 7, 9, 8, 12]\n",
    "\n",
    "print(actual_sum(test))"
   ]
  },
  {
   "cell_type": "code",
   "execution_count": 2,
   "metadata": {},
   "outputs": [
    {
     "name": "stdout",
     "output_type": "stream",
     "text": [
      "120\n"
     ]
    }
   ],
   "source": [
    "def facto(n):\n",
    "    if n <= 1:  # base case...\n",
    "        return 1\n",
    "    # recursive case...\n",
    "    return n * facto(n - 1)\n",
    "\n",
    "print(facto(5))"
   ]
  },
  {
   "cell_type": "code",
   "execution_count": null,
   "metadata": {},
   "outputs": [],
   "source": [
    "# https://realpython.com/python-thinking-recursively/\n",
    "# delivering presents to houses by Santa's Elves\n",
    "\n",
    "house_list = [\"Eric's House\", \"Kenny's House\",\n",
    "          \"Kyle's House\", \"Stan's House\"]\n",
    "\n",
    "def deliver_present(house):\n",
    "    # worker elf does delivery\n",
    "    if len(house) == 1:\n",
    "        house = house[0]\n",
    "        print(f'Delivering to {house}')\n",
    "        return\n",
    "    else:\n",
    "        # dividing the work by the manager\n",
    "        mid = len(house) // 2 \n",
    "        half_1 = house[:mid]\n",
    "        half_2 = house[mid:]\n",
    "        # What is divided? The house list. \n",
    "        # make two calls as there are two sets \n",
    "        deliver_present(half_1)  # << after this returns\n",
    "        deliver_present(half_2)  # << this execution starts\n",
    "\n",
    "        # there is nothing being returned... \n",
    "\n",
    "\n",
    "deliver_present(house=house_list)"
   ]
  },
  {
   "cell_type": "markdown",
   "metadata": {},
   "source": [
    "Decompose the original problem into simpler instances of the same problem. This is the recursive case:\n",
    "```\n",
    "n! = n x (n−1) x (n−2) x (n−3) ⋅⋅⋅⋅ x 3 x 2 x 1\n",
    "\n",
    "n! = n x (n−1)!\n",
    "```\n",
    "\n",
    "As the large problem is broken down into successively less complex ones, those subproblems must eventually become so simple that they can be solved without further subdivision. This is the base case:\n",
    "\n",
    "```\n",
    "n! = n x (n−1)! \n",
    "\n",
    "n! = n x (n−1) x (n−2)!\n",
    "\n",
    "n! = n x (n−1) x (n−2) x (n−3)!\n",
    ".... \n",
    "n! = n x (n−1) x (n−2) x (n−3) ⋅⋅⋅⋅ x 3!\n",
    "\n",
    "n! = n x (n−1) x (n−2) x (n−3) ⋅⋅⋅⋅ x 3 x 2!\n",
    "\n",
    "n! = n x (n−1) x (n−2) x (n−3) ⋅⋅⋅⋅ x 3 x 2 x 1!\n",
    "```"
   ]
  },
  {
   "cell_type": "code",
   "execution_count": null,
   "metadata": {},
   "outputs": [],
   "source": [
    "from pycallgraph import PyCallGraph\n",
    "from pycallgraph.output import GraphvizOutput\n",
    "\n",
    "with PyCallGraph(output=GraphvizOutput()):\n",
    "    code_to_profile()"
   ]
  },
  {
   "cell_type": "code",
   "execution_count": null,
   "metadata": {},
   "outputs": [],
   "source": [
    "# Understand about the state threading in Recursion\n",
    "\n",
    "# Thread the state through each recursive call, so it is part of the call context\n",
    "\n",
    "# keep state in global scope\n"
   ]
  },
  {
   "attachments": {
    "image.png": {
     "image/png": "[encoded data removed]"
    }
   },
   "cell_type": "markdown",
   "metadata": {},
   "source": [
    "![image.png](attachment:image.png)"
   ]
  },
  {
   "cell_type": "code",
   "execution_count": 18,
   "metadata": {},
   "outputs": [
    {
     "data": {
      "text/plain": [
       "55"
      ]
     },
     "execution_count": 18,
     "metadata": {},
     "output_type": "execute_result"
    }
   ],
   "source": [
    "# state is threaded into the call\n",
    "def sum_rec(curr, acc):\n",
    "    #BCase\n",
    "    if curr == 11:\n",
    "        return acc\n",
    "    #RCase\n",
    "    else:\n",
    "        return sum_rec(curr + 1,\n",
    "                       acc + curr)\n",
    "\n",
    "sum_rec(0, 0)"
   ]
  },
  {
   "cell_type": "code",
   "execution_count": 19,
   "metadata": {},
   "outputs": [
    {
     "data": {
      "text/plain": [
       "55"
      ]
     },
     "execution_count": 19,
     "metadata": {},
     "output_type": "execute_result"
    }
   ],
   "source": [
    "# state is global \n",
    "curr = 0\n",
    "acc = 0\n",
    "\n",
    "def sum_rec():\n",
    "    global curr\n",
    "    global acc\n",
    "    #BCase\n",
    "    if curr == 11:\n",
    "        return acc\n",
    "    #RCase\n",
    "    else:\n",
    "        # return sum_rec(curr + 1, acc + curr)  \"cannot be done\"\n",
    "        acc = acc + curr\n",
    "        curr += 1\n",
    "        return sum_rec()\n",
    "\n",
    "sum_rec()"
   ]
  },
  {
   "cell_type": "code",
   "execution_count": 20,
   "metadata": {},
   "outputs": [
    {
     "data": {
      "text/plain": [
       "[1, 5, '75', 'head']"
      ]
     },
     "execution_count": 20,
     "metadata": {},
     "output_type": "execute_result"
    }
   ],
   "source": [
    "# recursive list\n",
    "def attach_head(elem, inp_l):\n",
    "    return [elem] + inp_l\n",
    "\n",
    "# recursive list\n",
    "attach_head(1,\n",
    "            attach_head(5,\n",
    "                        attach_head('75',\n",
    "                                    attach_head('head', []))))\n",
    "# attach_head is the list here, to which the elems are added\n",
    "# Recursion can also be seen as self-referential function composition. "
   ]
  },
  {
   "cell_type": "code",
   "execution_count": null,
   "metadata": {},
   "outputs": [
    {
     "name": "stdout",
     "output_type": "stream",
     "text": [
      "44\n"
     ]
    }
   ],
   "source": [
    "def actual_sum(tlist):\n",
    "    if tlist == []:\n",
    "        return 0\n",
    "    head = tlist[0]\n",
    "    return tlist[0] + sum(tlist[1:])\n",
    "\n",
    "test = [5, 2, 1, 7, 9, 8, 12]\n",
    "\n",
    "print(actual_sum(test))"
   ]
  },
  {
   "cell_type": "code",
   "execution_count": null,
   "metadata": {},
   "outputs": [],
   "source": [
    "def fibo_recursive(n):\n",
    "    print(\"Calculating F\", \"(\", n, \")\", sep=\"\")\n",
    "    if n == 0:\n",
    "        return 0\n",
    "    elif n == 1:\n",
    "        return 1\n",
    "\n",
    "    else:\n",
    "        return fibo_recursive(n - 1) + fibo_recursive(n - 2)\n",
    "\n",
    "fibo_recursive(5)"
   ]
  },
  {
   "cell_type": "markdown",
   "metadata": {},
   "source": [
    "one point about lru_cache is that since it uses a dictionary to cache results, the positional and keyword arguments"
   ]
  },
  {
   "cell_type": "code",
   "execution_count": 2,
   "metadata": {},
   "outputs": [
    {
     "name": "stdout",
     "output_type": "stream",
     "text": [
      "Calculating F(5), Calculating F(4), Calculating F(3), Calculating F(2), Calculating F(1), Calculating F(0), "
     ]
    },
    {
     "data": {
      "text/plain": [
       "5"
      ]
     },
     "execution_count": 2,
     "metadata": {},
     "output_type": "execute_result"
    }
   ],
   "source": [
    "from functools import lru_cache\n",
    "\n",
    "@lru_cache(maxsize=None)\n",
    "def fibonacci_recursive(n):\n",
    "    print(\"Calculating F\", \"(\", n, \")\", sep=\"\", end=\", \")\n",
    "\n",
    "    # Base case\n",
    "    if n == 0:\n",
    "        return 0\n",
    "    elif n == 1:\n",
    "        return 1\n",
    "\n",
    "    # Recursive case\n",
    "    else:\n",
    "        return fibonacci_recursive(n-1) + fibonacci_recursive(n-2)\n",
    "\n",
    "fibonacci_recursive(5)"
   ]
  },
  {
   "cell_type": "code",
   "execution_count": 5,
   "metadata": {},
   "outputs": [],
   "source": [
    "# https://realpython.com/python-recursion/\n",
    "\n",
    "# Function can call itself, and its called recursion.\n",
    "# What factors to consider : memory consumed, elegance and execution time\n",
    "# How to design, implement\n",
    "    # Solve the problem mechanically, and locate the base cases   \n",
    "\n",
    "    # One or more base cases that needs no recursion\n",
    "    \n",
    "    # recursive call moves close to base case"
   ]
  },
  {
   "attachments": {
    "image.png": {
     "image/png": "[encoded data removed]"
    }
   },
   "cell_type": "markdown",
   "metadata": {},
   "source": [
    "### The problems are reductive\n",
    "\n",
    "![image.png](attachment:image.png)"
   ]
  },
  {
   "cell_type": "code",
   "execution_count": null,
   "metadata": {},
   "outputs": [],
   "source": [
    "# function create local namespaces which keep the variables distinct\n",
    "def function():\n",
    "    x = 10\n",
    "    function()\n",
    "    # need a termination condition, else the call stack will overflow"
   ]
  },
  {
   "cell_type": "code",
   "execution_count": 9,
   "metadata": {},
   "outputs": [
    {
     "data": {
      "text/plain": [
       "510"
      ]
     },
     "execution_count": 9,
     "metadata": {},
     "output_type": "execute_result"
    }
   ],
   "source": [
    "from sys import (\n",
    "    getrecursionlimit,\n",
    "    setrecursionlimit\n",
    ")\n",
    "getrecursionlimit()\n",
    "setrecursionlimit(510)\n",
    "getrecursionlimit()"
   ]
  },
  {
   "cell_type": "code",
   "execution_count": null,
   "metadata": {},
   "outputs": [],
   "source": [
    "def countd(n):\n",
    "    if n == 0:  # met condition (base case)\n",
    "        return  # terminated\n",
    "    print(n)\n",
    "    countd(n - 1)\n",
    "\n",
    "countd(10)"
   ]
  },
  {
   "cell_type": "code",
   "execution_count": 12,
   "metadata": {},
   "outputs": [
    {
     "name": "stdout",
     "output_type": "stream",
     "text": [
      "3\n",
      "2\n",
      "1\n"
     ]
    }
   ],
   "source": [
    "def another_cd(n):\n",
    "    if n > 0:\n",
    "        print(n)\n",
    "        another_cd(n - 1)\n",
    "another_cd(3)"
   ]
  },
  {
   "cell_type": "code",
   "execution_count": 13,
   "metadata": {},
   "outputs": [
    {
     "name": "stdout",
     "output_type": "stream",
     "text": [
      "3\n",
      "2\n",
      "1\n"
     ]
    }
   ],
   "source": [
    "def while_cd(n):\n",
    "    while n > 0:\n",
    "        print(n)\n",
    "        n = n - 1\n",
    "while_cd(3)"
   ]
  },
  {
   "cell_type": "code",
   "execution_count": 14,
   "metadata": {},
   "outputs": [
    {
     "name": "stdout",
     "output_type": "stream",
     "text": [
      "120\n"
     ]
    }
   ],
   "source": [
    "# concise factorial\n",
    "def fact_conc(n):\n",
    "    return 1 if n <= 1 else n * fact_conc(n - 1)\n",
    "\n",
    "print(fact_conc(5))"
   ]
  },
  {
   "cell_type": "code",
   "execution_count": 16,
   "metadata": {},
   "outputs": [
    {
     "name": "stdout",
     "output_type": "stream",
     "text": [
      "Calling with 5\n",
      "Calling with 4\n",
      "Calling with 3\n",
      "Calling with 2\n",
      "Calling with 1\n",
      "Returns the value 1\n",
      "Returns the value 2\n",
      "Returns the value 6\n",
      "Returns the value 24\n",
      "Returns the value 120\n"
     ]
    },
    {
     "data": {
      "text/plain": [
       "120"
      ]
     },
     "execution_count": 16,
     "metadata": {},
     "output_type": "execute_result"
    }
   ],
   "source": [
    "#### seeing the stacking up of the recursive calls\n",
    "\n",
    "def fact_conc(n):\n",
    "    print(f\"Calling with {n}\")\n",
    "    ret_val = 1 if n <= 1 else n * fact_conc(n - 1)\n",
    "    # < alone will allow for 0 also to come in to call stack\n",
    "    print(f\"Returns the value {ret_val}\")\n",
    "    return ret_val\n",
    "\n",
    "fact_conc(5)"
   ]
  },
  {
   "cell_type": "code",
   "execution_count": null,
   "metadata": {},
   "outputs": [],
   "source": [
    "setup_string = \"\"\"\n",
    "print(\"Recursive:\")\n",
    "def factorial(n):\n",
    "    return 1 if n <= 1 else n * factorial(n - 1)\n",
    "\"\"\"\n",
    "from timeit import timeit\n",
    "timeit(\"factorial(4)\", setup=setup_string, number=10000000)"
   ]
  },
  {
   "cell_type": "code",
   "execution_count": 24,
   "metadata": {},
   "outputs": [
    {
     "data": {
      "text/html": [
       "<pre style=\"white-space:pre;overflow-x:auto;line-height:normal;font-family:Menlo,'DejaVu Sans Mono',consolas,'Courier New',monospace\"><span style=\"font-weight: bold\">[</span><span style=\"color: #008000; text-decoration-color: #008000\">'Adam'</span>, <span style=\"font-weight: bold\">[</span><span style=\"color: #008000; text-decoration-color: #008000\">'Bob'</span>, <span style=\"font-weight: bold\">[</span><span style=\"color: #008000; text-decoration-color: #008000\">'Chet'</span>, <span style=\"color: #008000; text-decoration-color: #008000\">'Cat'</span><span style=\"font-weight: bold\">]</span>, <span style=\"color: #008000; text-decoration-color: #008000\">'Barb'</span>, <span style=\"color: #008000; text-decoration-color: #008000\">'Bert'</span><span style=\"font-weight: bold\">]</span>, <span style=\"color: #008000; text-decoration-color: #008000\">'Alex'</span>, <span style=\"font-weight: bold\">[</span><span style=\"color: #008000; text-decoration-color: #008000\">'Bea'</span>, <span style=\"color: #008000; text-decoration-color: #008000\">'Bill'</span><span style=\"font-weight: bold\">]</span>, <span style=\"color: #008000; text-decoration-color: #008000\">'Ann'</span><span style=\"font-weight: bold\">]</span>\n",
       "</pre>\n"
      ],
      "text/plain": [
       "\u001b[1m[\u001b[0m\u001b[32m'Adam'\u001b[0m, \u001b[1m[\u001b[0m\u001b[32m'Bob'\u001b[0m, \u001b[1m[\u001b[0m\u001b[32m'Chet'\u001b[0m, \u001b[32m'Cat'\u001b[0m\u001b[1m]\u001b[0m, \u001b[32m'Barb'\u001b[0m, \u001b[32m'Bert'\u001b[0m\u001b[1m]\u001b[0m, \u001b[32m'Alex'\u001b[0m, \u001b[1m[\u001b[0m\u001b[32m'Bea'\u001b[0m, \u001b[32m'Bill'\u001b[0m\u001b[1m]\u001b[0m, \u001b[32m'Ann'\u001b[0m\u001b[1m]\u001b[0m\n"
      ]
     },
     "metadata": {},
     "output_type": "display_data"
    }
   ],
   "source": [
    "### Traversing python lists\n",
    "names = [\n",
    "    \"Adam\",\n",
    "    [\n",
    "        \"Bob\",\n",
    "        [\n",
    "            \"Chet\",\n",
    "            \"Cat\",\n",
    "        ],\n",
    "        \"Barb\",\n",
    "        \"Bert\"\n",
    "    ],\n",
    "    \"Alex\",\n",
    "    [\n",
    "        \"Bea\",\n",
    "        \"Bill\"\n",
    "    ],\n",
    "    \"Ann\"\n",
    "]\n",
    "from rich import print\n",
    "print(names)"
   ]
  },
  {
   "cell_type": "code",
   "execution_count": 25,
   "metadata": {},
   "outputs": [
    {
     "data": {
      "text/plain": [
       "5"
      ]
     },
     "execution_count": 25,
     "metadata": {},
     "output_type": "execute_result"
    }
   ],
   "source": [
    "# calculating the len on the names will ret 5\n",
    "len(names)  \n",
    "#  what if we want exact elements count, after traversing all elements"
   ]
  },
  {
   "cell_type": "markdown",
   "metadata": {},
   "source": [
    "What you need here is a function that traverses the entire list structure, sublists included.\n",
    "\n",
    "The algorithm goes something like this:\n",
    "\n",
    "    > Walk through the list, examining each item in turn.\n",
    "\n",
    "    > If you find a leaf element, then add it to the accumulated count.\n",
    "    \n",
    "    > If you encounter a sublist, then do the following:\n",
    "\n",
    "    > Drop down into that sublist and similarly walk through it.\n",
    "    \n",
    "    > Once you’ve exhausted the sublist, go back up, add the elements from the sublist to the accumulated count, and resume the walk through the parent list where you left off."
   ]
  },
  {
   "cell_type": "code",
   "execution_count": 26,
   "metadata": {},
   "outputs": [
    {
     "data": {
      "text/html": [
       "<pre style=\"white-space:pre;overflow-x:auto;line-height:normal;font-family:Menlo,'DejaVu Sans Mono',consolas,'Courier New',monospace\">Adam\n",
       "</pre>\n"
      ],
      "text/plain": [
       "Adam\n"
      ]
     },
     "metadata": {},
     "output_type": "display_data"
    },
    {
     "data": {
      "text/plain": [
       "False"
      ]
     },
     "execution_count": 26,
     "metadata": {},
     "output_type": "execute_result"
    }
   ],
   "source": [
    "# key is to find the termination condition\n",
    "print(names[0])\n",
    "\n",
    "isinstance(names[0], list)\n"
   ]
  },
  {
   "cell_type": "code",
   "execution_count": 27,
   "metadata": {},
   "outputs": [
    {
     "data": {
      "text/html": [
       "<pre style=\"white-space:pre;overflow-x:auto;line-height:normal;font-family:Menlo,'DejaVu Sans Mono',consolas,'Courier New',monospace\"><span style=\"font-weight: bold\">[</span><span style=\"color: #008000; text-decoration-color: #008000\">'Bob'</span>, <span style=\"font-weight: bold\">[</span><span style=\"color: #008000; text-decoration-color: #008000\">'Chet'</span>, <span style=\"color: #008000; text-decoration-color: #008000\">'Cat'</span><span style=\"font-weight: bold\">]</span>, <span style=\"color: #008000; text-decoration-color: #008000\">'Barb'</span>, <span style=\"color: #008000; text-decoration-color: #008000\">'Bert'</span><span style=\"font-weight: bold\">]</span>\n",
       "</pre>\n"
      ],
      "text/plain": [
       "\u001b[1m[\u001b[0m\u001b[32m'Bob'\u001b[0m, \u001b[1m[\u001b[0m\u001b[32m'Chet'\u001b[0m, \u001b[32m'Cat'\u001b[0m\u001b[1m]\u001b[0m, \u001b[32m'Barb'\u001b[0m, \u001b[32m'Bert'\u001b[0m\u001b[1m]\u001b[0m\n"
      ]
     },
     "metadata": {},
     "output_type": "display_data"
    },
    {
     "data": {
      "text/plain": [
       "True"
      ]
     },
     "execution_count": 27,
     "metadata": {},
     "output_type": "execute_result"
    }
   ],
   "source": [
    "# key is to find the termination condition\n",
    "print(names[1])\n",
    "\n",
    "isinstance(names[1], list)\n"
   ]
  },
  {
   "cell_type": "code",
   "execution_count": null,
   "metadata": {},
   "outputs": [],
   "source": [
    "def count_leaves(list_names):\n",
    "    \"\"\"Recursively counts and returns the \n",
    "    number of leaf items in a nested list.\"\"\"\n",
    "    count = 0\n",
    "    for item in list_names:\n",
    "        if isinstance(item, list):  # its a list\n",
    "            print(\"Encountering a sub-list\")\n",
    "            count += count_leaves(item)\n",
    "        else:  # else its a leaf\n",
    "            print('Leaf is being counted')\n",
    "            count += 1\n",
    "    return count\n",
    "\n",
    "count_leaves(names)"
   ]
  },
  {
   "cell_type": "code",
   "execution_count": null,
   "metadata": {},
   "outputs": [],
   "source": [
    "def count_leaf_items(item_list):\n",
    "    \"\"\"Non-recursively counts and returns the\n",
    "       number of leaf items in a (potentially\n",
    "       nested) list.\n",
    "    \"\"\"\n",
    "    count = 0\n",
    "    stack = []\n",
    "    current_list = item_list\n",
    "    i = 0\n",
    "\n",
    "    while True:\n",
    "        if i == len(current_list):\n",
    "            if current_list == item_list:\n",
    "                return count\n",
    "            else:\n",
    "                \"\"\"\n",
    "                The strategy employed here uses a stack to handle the nested sublists. When this version of count_leaf_items() encounters a sublist, it pushes the list that is currently in progress and the current index in that list onto a stack. Once it has counted the sublist, the function pops the parent list and index from the stack so it can resume counting where it left off.\n",
    "                \"\"\"             \n",
    "                current_list, i = stack.pop()\n",
    "                i += 1\n",
    "                continue\n",
    "\n",
    "        if isinstance(current_list[i], list):\n",
    "            stack.append([current_list, i])\n",
    "            current_list = current_list[i]\n",
    "            i = 0\n",
    "        else:\n",
    "            count += 1\n",
    "            i += 1"
   ]
  },
  {
   "cell_type": "markdown",
   "metadata": {},
   "source": [
    "#### Finding if string is palindromic\n",
    "\n",
    "    Recursive definition of a palindrome:\n",
    "\n",
    "Base cases: An empty string and a string consisting of a single character are inherently palindromic.\n",
    "\n",
    "Reductive recursion: A string of length two or greater is a palindrome if it satisfies both of these criteria:\n",
    "    \n",
    "    > The first and last characters are the same.\n",
    "    \n",
    "    > The substring between the first and last characters is a palindrome.\n",
    "    \n",
    "    > Slicing is your friend here as well. For a string word, indexing and slicing give the following substrings:\n",
    "\n",
    "- The first character is word[0].\n",
    "\n",
    "- The last character is word[-1].\n",
    "\n",
    "- The substring between the first and last characters is word[1:-1]."
   ]
  },
  {
   "cell_type": "code",
   "execution_count": 31,
   "metadata": {},
   "outputs": [
    {
     "data": {
      "text/plain": [
       "True"
      ]
     },
     "execution_count": 31,
     "metadata": {},
     "output_type": "execute_result"
    }
   ],
   "source": [
    "def is_palindrome(word):\n",
    "    \"\"\"Return True if word is a palindrome, False if not.\"\"\"\n",
    "    if len(word) <= 1:\n",
    "        return True\n",
    "    else:\n",
    "        # last & first word are same\n",
    "        # in-bw sub-word is palindrome\n",
    "        return word[0] == word[-1] and is_palindrome(word[1:-1])\n",
    "\n",
    "is_palindrome(\"racecar\")"
   ]
  },
  {
   "cell_type": "markdown",
   "metadata": {},
   "source": [
    "#### Quicksort algorithm \n",
    "\n",
    "The steps of the algorithm are as follows:\n",
    "\n",
    "    Choose the pivot item.\n",
    "\n",
    "    Partition the list into two sublists:\n",
    "        \n",
    "        > Those items that are less than the pivot item\n",
    "        \n",
    "        > Those items that are greater than the pivot item\n",
    "    \n",
    "Quicksort the sublists recursively.\n",
    "\n",
    "Each partitioning produces smaller sublists, so the algorithm is reductive. "
   ]
  },
  {
   "cell_type": "markdown",
   "metadata": {},
   "source": [
    "### Implementation is bit different\n",
    "\n",
    "- Choose the pivot item using the median-of-three method described above.\n",
    "\n",
    "- Using the pivot item, create three sublists:\n",
    "    \n",
    "    > The items in the original list that are less than the pivot item\n",
    "\n",
    "    > The pivot item itself\n",
    "    \n",
    "    > The items in the original list that are greater than the pivot item\n",
    "\n",
    "Recursively Quicksort lists 1 and 3.\n",
    "\n",
    "Concatenate all three lists back together."
   ]
  },
  {
   "cell_type": "code",
   "execution_count": 32,
   "metadata": {},
   "outputs": [
    {
     "data": {
      "text/html": [
       "<pre style=\"white-space:pre;overflow-x:auto;line-height:normal;font-family:Menlo,'DejaVu Sans Mono',consolas,'Courier New',monospace\"><span style=\"font-weight: bold\">[</span><span style=\"color: #008080; text-decoration-color: #008080; font-weight: bold\">-8</span>, <span style=\"color: #008080; text-decoration-color: #008080; font-weight: bold\">-3</span>, <span style=\"color: #008080; text-decoration-color: #008080; font-weight: bold\">6</span>, <span style=\"color: #008080; text-decoration-color: #008080; font-weight: bold\">10</span>, <span style=\"color: #008080; text-decoration-color: #008080; font-weight: bold\">21</span><span style=\"font-weight: bold\">]</span>\n",
       "</pre>\n"
      ],
      "text/plain": [
       "\u001b[1m[\u001b[0m\u001b[1;36m-8\u001b[0m, \u001b[1;36m-3\u001b[0m, \u001b[1;36m6\u001b[0m, \u001b[1;36m10\u001b[0m, \u001b[1;36m21\u001b[0m\u001b[1m]\u001b[0m\n"
      ]
     },
     "metadata": {},
     "output_type": "display_data"
    }
   ],
   "source": [
    "import statistics\n",
    "\n",
    "def quicksort(numbers):\n",
    "    # this is base case when there 1 or less elems\n",
    "    if len(numbers) <= 1:\n",
    "        return numbers\n",
    "    else:\n",
    "        # pivot is identified using median of 3 numbers\n",
    "        pivot = statistics.median(\n",
    "            [\n",
    "                numbers[0],\n",
    "                numbers[len(numbers) // 2],\n",
    "                numbers[-1]\n",
    "            ]\n",
    "        )\n",
    "        items_less, pivot_items, items_greater = (\n",
    "            [n for n in numbers if n < pivot],\n",
    "            [n for n in numbers if n == pivot],\n",
    "            [n for n in numbers if n > pivot]\n",
    "        )\n",
    "\n",
    "        return (\n",
    "            quicksort(items_less) +\n",
    "            pivot_items +\n",
    "            quicksort(items_greater)\n",
    "        )\n",
    "\n",
    "print(quicksort([10, -3, 21, 6, -8]))"
   ]
  },
  {
   "cell_type": "code",
   "execution_count": null,
   "metadata": {},
   "outputs": [],
   "source": [
    "# recursive walks\n",
    "\n",
    "def bcwalk(ulist, n):\n",
    "    if n < 0:\n",
    "        return\n",
    "    print(ulist[n])\n",
    "    return bcwalk(ulist, n - 1)\n",
    "\n",
    "def forwalk(ulist, n=0):\n",
    "    # ulog.info(ulist)\n",
    "    if n > len(ulist) - 1:\n",
    "        return\n",
    "    print(ulist[n])\n",
    "    return forwalk(ulist, n + 1)\n",
    "\n",
    "# bcwalk(test, len(tmon) - 1)\n",
    "forwalk(test)"
   ]
  },
  {
   "cell_type": "code",
   "execution_count": null,
   "metadata": {},
   "outputs": [],
   "source": []
  },
  {
   "cell_type": "code",
   "execution_count": null,
   "metadata": {},
   "outputs": [],
   "source": []
  },
  {
   "cell_type": "code",
   "execution_count": null,
   "metadata": {},
   "outputs": [],
   "source": []
  },
  {
   "cell_type": "code",
   "execution_count": null,
   "metadata": {},
   "outputs": [],
   "source": []
  }
 ],
 "metadata": {
  "kernelspec": {
   "display_name": "Python 3",
   "language": "python",
   "name": "python3"
  },
  "language_info": {
   "codemirror_mode": {
    "name": "ipython",
    "version": 3
   },
   "file_extension": ".py",
   "mimetype": "text/x-python",
   "name": "python",
   "nbconvert_exporter": "python",
   "pygments_lexer": "ipython3",
   "version": "3.11.4"
  }
 },
 "nbformat": 4,
 "nbformat_minor": 2
}
