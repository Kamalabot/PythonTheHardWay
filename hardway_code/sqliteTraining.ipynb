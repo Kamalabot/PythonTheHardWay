{
 "cells": [
  {
   "cell_type": "code",
   "execution_count": 2,
   "id": "019852a2",
   "metadata": {},
   "outputs": [],
   "source": [
    "import sqlite3"
   ]
  },
  {
   "cell_type": "code",
   "execution_count": 14,
   "id": "87df7bce",
   "metadata": {},
   "outputs": [],
   "source": [
    "conn = sqlite3.connect('customer.db')"
   ]
  },
  {
   "cell_type": "code",
   "execution_count": 4,
   "id": "4ab99fab",
   "metadata": {},
   "outputs": [],
   "source": [
    "#Need cursor to tell what DB to do"
   ]
  },
  {
   "cell_type": "code",
   "execution_count": 15,
   "id": "d41f5283",
   "metadata": {},
   "outputs": [],
   "source": [
    "c = conn.cursor()"
   ]
  },
  {
   "cell_type": "code",
   "execution_count": 16,
   "id": "5a3714b8",
   "metadata": {},
   "outputs": [
    {
     "data": {
      "text/plain": [
       "<sqlite3.Cursor at 0x7fd3bf537240>"
      ]
     },
     "execution_count": 16,
     "metadata": {},
     "output_type": "execute_result"
    }
   ],
   "source": [
    "#Create a Table\n",
    "c.execute(\"\"\"CREATE TABLE newCust(\n",
    "    id INTERGER PRIMARY KEY,\n",
    "    first_name text,\n",
    "    last_name text\n",
    "    )\n",
    "\"\"\")"
   ]
  },
  {
   "cell_type": "code",
   "execution_count": 9,
   "id": "b7cb7067",
   "metadata": {},
   "outputs": [],
   "source": [
    "#Types sqlite3 + NULL + INTERGER + REAL + TEXT + BLOB"
   ]
  },
  {
   "cell_type": "code",
   "execution_count": 10,
   "id": "3c7bce0d",
   "metadata": {},
   "outputs": [],
   "source": [
    "conn.commit()"
   ]
  },
  {
   "cell_type": "code",
   "execution_count": 11,
   "id": "7900a2dc",
   "metadata": {},
   "outputs": [],
   "source": [
    "conn.close()"
   ]
  },
  {
   "cell_type": "code",
   "execution_count": 18,
   "id": "02dc9481",
   "metadata": {},
   "outputs": [],
   "source": [
    "#Adding the data into the table"
   ]
  },
  {
   "cell_type": "code",
   "execution_count": 20,
   "id": "20f09210",
   "metadata": {},
   "outputs": [
    {
     "data": {
      "text/plain": [
       "<sqlite3.Cursor at 0x7fd3bf537240>"
      ]
     },
     "execution_count": 20,
     "metadata": {},
     "output_type": "execute_result"
    }
   ],
   "source": [
    "c.execute(\"INSERT INTO newCust VALUES(1,'newWold','Mac')\")"
   ]
  },
  {
   "cell_type": "code",
   "execution_count": 21,
   "id": "8dd21418",
   "metadata": {},
   "outputs": [],
   "source": [
    "conn.commit()"
   ]
  },
  {
   "cell_type": "code",
   "execution_count": 22,
   "id": "60a63d8f",
   "metadata": {},
   "outputs": [],
   "source": [
    "conn.close()"
   ]
  },
  {
   "cell_type": "code",
   "execution_count": 23,
   "id": "d221cae0",
   "metadata": {},
   "outputs": [],
   "source": [
    "conn = sqlite3.connect('customer.db')"
   ]
  },
  {
   "cell_type": "code",
   "execution_count": 24,
   "id": "becd6ce0",
   "metadata": {},
   "outputs": [],
   "source": [
    "c = conn.cursor()"
   ]
  },
  {
   "cell_type": "code",
   "execution_count": 26,
   "id": "7a2b78a2",
   "metadata": {},
   "outputs": [
    {
     "data": {
      "text/plain": [
       "<sqlite3.Cursor at 0x7fd3bef5a4c0>"
      ]
     },
     "execution_count": 26,
     "metadata": {},
     "output_type": "execute_result"
    }
   ],
   "source": [
    "c.execute(\"INSERT INTO newCust VALUES(2,'May','Fari')\")"
   ]
  },
  {
   "cell_type": "code",
   "execution_count": 28,
   "id": "8bb6d6eb",
   "metadata": {},
   "outputs": [
    {
     "data": {
      "text/plain": [
       "<sqlite3.Cursor at 0x7fd3bef5a4c0>"
      ]
     },
     "execution_count": 28,
     "metadata": {},
     "output_type": "execute_result"
    }
   ],
   "source": [
    "c.execute(\"INSERT INTO newCust VALUES(3,'Jun','Jonc')\")"
   ]
  },
  {
   "cell_type": "code",
   "execution_count": 29,
   "id": "912acccc",
   "metadata": {},
   "outputs": [],
   "source": [
    "#Adding multiple items into the table"
   ]
  },
  {
   "cell_type": "code",
   "execution_count": 30,
   "id": "b7f3950c",
   "metadata": {},
   "outputs": [],
   "source": [
    "manyCustomers = [\n",
    "    (5,'wes','lev'),\n",
    "    (6,'look','out'),\n",
    "    (7,'ggo','out')\n",
    "]"
   ]
  },
  {
   "cell_type": "code",
   "execution_count": 31,
   "id": "0a4f2761",
   "metadata": {},
   "outputs": [
    {
     "data": {
      "text/plain": [
       "<sqlite3.Cursor at 0x7fd3bef5a4c0>"
      ]
     },
     "execution_count": 31,
     "metadata": {},
     "output_type": "execute_result"
    }
   ],
   "source": [
    "c.executemany(\"INSERT INTO newCust VALUES(?,?,?)\",manyCustomers)"
   ]
  },
  {
   "cell_type": "code",
   "execution_count": 40,
   "id": "0af634b0",
   "metadata": {},
   "outputs": [
    {
     "data": {
      "text/plain": [
       "<sqlite3.Cursor at 0x7fd3bef5a4c0>"
      ]
     },
     "execution_count": 40,
     "metadata": {},
     "output_type": "execute_result"
    }
   ],
   "source": [
    "c.execute(\"SELECT * FROM newCust\")"
   ]
  },
  {
   "cell_type": "code",
   "execution_count": 33,
   "id": "812ddf37",
   "metadata": {},
   "outputs": [
    {
     "data": {
      "text/plain": [
       "[(1, 'newWold', 'Mac'),\n",
       " (2, 'May', 'Fari'),\n",
       " (3, 'Jun', 'Jonc'),\n",
       " (5, 'wes', 'lev'),\n",
       " (6, 'look', 'out'),\n",
       " (7, 'ggo', 'out')]"
      ]
     },
     "execution_count": 33,
     "metadata": {},
     "output_type": "execute_result"
    }
   ],
   "source": [
    "c.fetchall()"
   ]
  },
  {
   "cell_type": "code",
   "execution_count": 42,
   "id": "2452b11a",
   "metadata": {},
   "outputs": [],
   "source": [
    "#Ensure the cursor executes the query to the database"
   ]
  },
  {
   "cell_type": "code",
   "execution_count": 41,
   "id": "3760aa5b",
   "metadata": {},
   "outputs": [
    {
     "data": {
      "text/plain": [
       "[(1, 'newWold', 'Mac'), (2, 'May', 'Fari')]"
      ]
     },
     "execution_count": 41,
     "metadata": {},
     "output_type": "execute_result"
    }
   ],
   "source": [
    "c.fetchmany(2)"
   ]
  },
  {
   "cell_type": "code",
   "execution_count": 43,
   "id": "18125fc3",
   "metadata": {},
   "outputs": [],
   "source": [
    "items = c.fetchall()"
   ]
  },
  {
   "cell_type": "code",
   "execution_count": 44,
   "id": "d3721063",
   "metadata": {},
   "outputs": [
    {
     "data": {
      "text/plain": [
       "[(3, 'Jun', 'Jonc'), (5, 'wes', 'lev'), (6, 'look', 'out'), (7, 'ggo', 'out')]"
      ]
     },
     "execution_count": 44,
     "metadata": {},
     "output_type": "execute_result"
    }
   ],
   "source": [
    "items"
   ]
  },
  {
   "cell_type": "code",
   "execution_count": 45,
   "id": "d4973b5e",
   "metadata": {},
   "outputs": [
    {
     "data": {
      "text/plain": [
       "list"
      ]
     },
     "execution_count": 45,
     "metadata": {},
     "output_type": "execute_result"
    }
   ],
   "source": [
    "type(items)"
   ]
  },
  {
   "cell_type": "code",
   "execution_count": 47,
   "id": "0aefb01b",
   "metadata": {},
   "outputs": [
    {
     "name": "stdout",
     "output_type": "stream",
     "text": [
      "Jonc\n",
      "lev\n",
      "out\n",
      "out\n"
     ]
    }
   ],
   "source": [
    "for it in items:\n",
    "    \n",
    "    print(it[2])"
   ]
  },
  {
   "cell_type": "code",
   "execution_count": 48,
   "id": "f9cdf434",
   "metadata": {},
   "outputs": [
    {
     "data": {
      "text/plain": [
       "<sqlite3.Cursor at 0x7fd3bef5a4c0>"
      ]
     },
     "execution_count": 48,
     "metadata": {},
     "output_type": "execute_result"
    }
   ],
   "source": [
    "c.execute(\"SELECT rowid,* FROM newCust\")"
   ]
  },
  {
   "cell_type": "code",
   "execution_count": 49,
   "id": "086ff03d",
   "metadata": {},
   "outputs": [
    {
     "data": {
      "text/plain": [
       "[(1, 1, 'newWold', 'Mac'),\n",
       " (2, 2, 'May', 'Fari'),\n",
       " (3, 3, 'Jun', 'Jonc'),\n",
       " (4, 5, 'wes', 'lev'),\n",
       " (5, 6, 'look', 'out'),\n",
       " (6, 7, 'ggo', 'out')]"
      ]
     },
     "execution_count": 49,
     "metadata": {},
     "output_type": "execute_result"
    }
   ],
   "source": [
    "c.fetchall()"
   ]
  },
  {
   "cell_type": "code",
   "execution_count": 54,
   "id": "c0b74e8c",
   "metadata": {},
   "outputs": [],
   "source": [
    "#Using the Where and Like"
   ]
  },
  {
   "cell_type": "code",
   "execution_count": 52,
   "id": "31ec4dae",
   "metadata": {},
   "outputs": [
    {
     "data": {
      "text/plain": [
       "<sqlite3.Cursor at 0x7fd3bef5a4c0>"
      ]
     },
     "execution_count": 52,
     "metadata": {},
     "output_type": "execute_result"
    }
   ],
   "source": [
    "c.execute(\"SELECT * FROM newCust WHERE last_name LIKE 'o%'\")"
   ]
  },
  {
   "cell_type": "code",
   "execution_count": 53,
   "id": "d9049786",
   "metadata": {},
   "outputs": [
    {
     "data": {
      "text/plain": [
       "[(6, 'look', 'out'), (7, 'ggo', 'out')]"
      ]
     },
     "execution_count": 53,
     "metadata": {},
     "output_type": "execute_result"
    }
   ],
   "source": [
    "c.fetchall()"
   ]
  },
  {
   "cell_type": "code",
   "execution_count": 55,
   "id": "4c29ba2e",
   "metadata": {},
   "outputs": [],
   "source": [
    "#Updating the records"
   ]
  },
  {
   "cell_type": "code",
   "execution_count": 56,
   "id": "a3d2f714",
   "metadata": {},
   "outputs": [
    {
     "data": {
      "text/plain": [
       "<sqlite3.Cursor at 0x7fd3bef5a4c0>"
      ]
     },
     "execution_count": 56,
     "metadata": {},
     "output_type": "execute_result"
    }
   ],
   "source": [
    "c.execute(\"UPDATE newCust SET first_name='loun' WHERE first_name='ggo' \")"
   ]
  },
  {
   "cell_type": "code",
   "execution_count": 58,
   "id": "a09a70b1",
   "metadata": {},
   "outputs": [
    {
     "data": {
      "text/plain": [
       "<sqlite3.Cursor at 0x7fd3bef5a4c0>"
      ]
     },
     "execution_count": 58,
     "metadata": {},
     "output_type": "execute_result"
    }
   ],
   "source": [
    "c.execute(\"SELECT * FROM newCust\")"
   ]
  },
  {
   "cell_type": "code",
   "execution_count": 59,
   "id": "f0094c5a",
   "metadata": {},
   "outputs": [
    {
     "data": {
      "text/plain": [
       "[(1, 'newWold', 'Mac'),\n",
       " (2, 'May', 'Fari'),\n",
       " (3, 'Jun', 'Jonc'),\n",
       " (5, 'wes', 'lev'),\n",
       " (6, 'look', 'out'),\n",
       " (7, 'loun', 'out')]"
      ]
     },
     "execution_count": 59,
     "metadata": {},
     "output_type": "execute_result"
    }
   ],
   "source": [
    "c.fetchall()"
   ]
  },
  {
   "cell_type": "code",
   "execution_count": 60,
   "id": "42be1876",
   "metadata": {},
   "outputs": [],
   "source": [
    "#Use rowId to update the data"
   ]
  },
  {
   "cell_type": "code",
   "execution_count": 61,
   "id": "fe0cf2b1",
   "metadata": {},
   "outputs": [
    {
     "data": {
      "text/plain": [
       "<sqlite3.Cursor at 0x7fd3bef5a4c0>"
      ]
     },
     "execution_count": 61,
     "metadata": {},
     "output_type": "execute_result"
    }
   ],
   "source": [
    "c.execute(\"UPDATE newCust SET first_name='ruolm' WHERE rowid=5 \")"
   ]
  },
  {
   "cell_type": "code",
   "execution_count": 62,
   "id": "c9fbf0ef",
   "metadata": {},
   "outputs": [
    {
     "data": {
      "text/plain": [
       "<sqlite3.Cursor at 0x7fd3bef5a4c0>"
      ]
     },
     "execution_count": 62,
     "metadata": {},
     "output_type": "execute_result"
    }
   ],
   "source": [
    "c.execute(\"SELECT * FROM newCust\")"
   ]
  },
  {
   "cell_type": "code",
   "execution_count": 63,
   "id": "adba6bd8",
   "metadata": {},
   "outputs": [
    {
     "data": {
      "text/plain": [
       "[(1, 'newWold', 'Mac'),\n",
       " (2, 'May', 'Fari'),\n",
       " (3, 'Jun', 'Jonc'),\n",
       " (5, 'wes', 'lev'),\n",
       " (6, 'ruolm', 'out'),\n",
       " (7, 'loun', 'out')]"
      ]
     },
     "execution_count": 63,
     "metadata": {},
     "output_type": "execute_result"
    }
   ],
   "source": [
    "c.fetchall()"
   ]
  },
  {
   "cell_type": "code",
   "execution_count": 65,
   "id": "978debbe",
   "metadata": {},
   "outputs": [
    {
     "data": {
      "text/plain": [
       "<sqlite3.Cursor at 0x7fd3bef5a4c0>"
      ]
     },
     "execution_count": 65,
     "metadata": {},
     "output_type": "execute_result"
    }
   ],
   "source": [
    "c.execute(\"DELETE FROM newCust WHERE rowid = 5\")"
   ]
  },
  {
   "cell_type": "code",
   "execution_count": 67,
   "id": "7af86d09",
   "metadata": {},
   "outputs": [],
   "source": [
    "conn.commit()"
   ]
  },
  {
   "cell_type": "code",
   "execution_count": 68,
   "id": "b64652db",
   "metadata": {},
   "outputs": [
    {
     "data": {
      "text/plain": [
       "<sqlite3.Cursor at 0x7fd3bef5a4c0>"
      ]
     },
     "execution_count": 68,
     "metadata": {},
     "output_type": "execute_result"
    }
   ],
   "source": [
    "c.execute(\"SELECT * FROM newCust\")"
   ]
  },
  {
   "cell_type": "code",
   "execution_count": 69,
   "id": "db762f04",
   "metadata": {},
   "outputs": [
    {
     "data": {
      "text/plain": [
       "[(1, 'newWold', 'Mac'),\n",
       " (2, 'May', 'Fari'),\n",
       " (3, 'Jun', 'Jonc'),\n",
       " (5, 'wes', 'lev'),\n",
       " (7, 'loun', 'out')]"
      ]
     },
     "execution_count": 69,
     "metadata": {},
     "output_type": "execute_result"
    }
   ],
   "source": [
    "c.fetchall()"
   ]
  },
  {
   "cell_type": "code",
   "execution_count": 70,
   "id": "430d01ed",
   "metadata": {},
   "outputs": [
    {
     "data": {
      "text/plain": [
       "<sqlite3.Cursor at 0x7fd3bef5a4c0>"
      ]
     },
     "execution_count": 70,
     "metadata": {},
     "output_type": "execute_result"
    }
   ],
   "source": [
    "c.execute(\"SELECT * FROM newCust ORDER BY first_name\")"
   ]
  },
  {
   "cell_type": "code",
   "execution_count": 71,
   "id": "3f834a4f",
   "metadata": {},
   "outputs": [
    {
     "data": {
      "text/plain": [
       "[(3, 'Jun', 'Jonc'),\n",
       " (2, 'May', 'Fari'),\n",
       " (7, 'loun', 'out'),\n",
       " (1, 'newWold', 'Mac'),\n",
       " (5, 'wes', 'lev')]"
      ]
     },
     "execution_count": 71,
     "metadata": {},
     "output_type": "execute_result"
    }
   ],
   "source": [
    "c.fetchall()"
   ]
  },
  {
   "cell_type": "code",
   "execution_count": 72,
   "id": "ca59503f",
   "metadata": {},
   "outputs": [
    {
     "data": {
      "text/plain": [
       "<sqlite3.Cursor at 0x7fd3bef5a4c0>"
      ]
     },
     "execution_count": 72,
     "metadata": {},
     "output_type": "execute_result"
    }
   ],
   "source": [
    "c.execute(\"SELECT * FROM newCust ORDER BY first_name DESC\")"
   ]
  },
  {
   "cell_type": "code",
   "execution_count": 73,
   "id": "33659509",
   "metadata": {},
   "outputs": [
    {
     "data": {
      "text/plain": [
       "[(5, 'wes', 'lev'),\n",
       " (1, 'newWold', 'Mac'),\n",
       " (7, 'loun', 'out'),\n",
       " (2, 'May', 'Fari'),\n",
       " (3, 'Jun', 'Jonc')]"
      ]
     },
     "execution_count": 73,
     "metadata": {},
     "output_type": "execute_result"
    }
   ],
   "source": [
    "c.fetchall()"
   ]
  },
  {
   "cell_type": "code",
   "execution_count": 74,
   "id": "327c7fa1",
   "metadata": {},
   "outputs": [
    {
     "data": {
      "text/plain": [
       "<sqlite3.Cursor at 0x7fd3bef5a4c0>"
      ]
     },
     "execution_count": 74,
     "metadata": {},
     "output_type": "execute_result"
    }
   ],
   "source": [
    "c.execute(\"SELECT * FROM newCust WHERE first_name = 'wes' or last_name LIKE 'l%'\")"
   ]
  },
  {
   "cell_type": "code",
   "execution_count": 75,
   "id": "4da0ade9",
   "metadata": {},
   "outputs": [
    {
     "data": {
      "text/plain": [
       "[(5, 'wes', 'lev')]"
      ]
     },
     "execution_count": 75,
     "metadata": {},
     "output_type": "execute_result"
    }
   ],
   "source": [
    "c.fetchall()"
   ]
  },
  {
   "cell_type": "code",
   "execution_count": 76,
   "id": "6978ca4d",
   "metadata": {},
   "outputs": [
    {
     "data": {
      "text/plain": [
       "<sqlite3.Cursor at 0x7fd3bef5a4c0>"
      ]
     },
     "execution_count": 76,
     "metadata": {},
     "output_type": "execute_result"
    }
   ],
   "source": [
    "c.execute(\"SELECT * FROM newCust WHERE first_name = 'wes' or last_name LIKE 'J%'\")"
   ]
  },
  {
   "cell_type": "code",
   "execution_count": 77,
   "id": "853285a6",
   "metadata": {},
   "outputs": [
    {
     "data": {
      "text/plain": [
       "[(3, 'Jun', 'Jonc'), (5, 'wes', 'lev')]"
      ]
     },
     "execution_count": 77,
     "metadata": {},
     "output_type": "execute_result"
    }
   ],
   "source": [
    "c.fetchall()"
   ]
  },
  {
   "cell_type": "code",
   "execution_count": 78,
   "id": "4897c201",
   "metadata": {},
   "outputs": [],
   "source": [
    "#Delete the Table"
   ]
  },
  {
   "cell_type": "code",
   "execution_count": null,
   "id": "5857074a",
   "metadata": {},
   "outputs": [],
   "source": [
    "c.execute(\"DROP TABLE \")"
   ]
  }
 ],
 "metadata": {
  "kernelspec": {
   "display_name": "Python 3 (ipykernel)",
   "language": "python",
   "name": "python3"
  },
  "language_info": {
   "codemirror_mode": {
    "name": "ipython",
    "version": 3
   },
   "file_extension": ".py",
   "mimetype": "text/x-python",
   "name": "python",
   "nbconvert_exporter": "python",
   "pygments_lexer": "ipython3",
   "version": "3.10.7"
  }
 },
 "nbformat": 4,
 "nbformat_minor": 5
}
